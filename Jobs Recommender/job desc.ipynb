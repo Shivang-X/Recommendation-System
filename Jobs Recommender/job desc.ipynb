{
 "cells": [
  {
   "cell_type": "code",
   "execution_count": 2,
   "id": "5ffa18d6",
   "metadata": {},
   "outputs": [],
   "source": [
    "import numpy as np\n",
    "import pandas as pd\n",
    "import ast\n",
    "from sklearn.feature_extraction.text import CountVectorizer\n",
    "from nltk.stem.porter import PorterStemmer\n",
    "from sklearn.metrics.pairwise import cosine_similarity"
   ]
  },
  {
   "cell_type": "code",
   "execution_count": 3,
   "id": "35ab3e14",
   "metadata": {},
   "outputs": [],
   "source": [
    "jobs = pd.read_csv('job_title_des.csv')"
   ]
  },
  {
   "cell_type": "code",
   "execution_count": 23,
   "id": "e4300f2d",
   "metadata": {},
   "outputs": [
    {
     "data": {
      "text/html": [
       "<div>\n",
       "<style scoped>\n",
       "    .dataframe tbody tr th:only-of-type {\n",
       "        vertical-align: middle;\n",
       "    }\n",
       "\n",
       "    .dataframe tbody tr th {\n",
       "        vertical-align: top;\n",
       "    }\n",
       "\n",
       "    .dataframe thead th {\n",
       "        text-align: right;\n",
       "    }\n",
       "</style>\n",
       "<table border=\"1\" class=\"dataframe\">\n",
       "  <thead>\n",
       "    <tr style=\"text-align: right;\">\n",
       "      <th></th>\n",
       "      <th>Unnamed: 0</th>\n",
       "      <th>Job Title</th>\n",
       "      <th>Job Description</th>\n",
       "      <th>Jobs</th>\n",
       "      <th>tags</th>\n",
       "    </tr>\n",
       "  </thead>\n",
       "  <tbody>\n",
       "    <tr>\n",
       "      <th>0</th>\n",
       "      <td>0</td>\n",
       "      <td>Flutter Developer</td>\n",
       "      <td>We are looking for hire experts flutter develo...</td>\n",
       "      <td>Flutter Developer</td>\n",
       "      <td>we are looking for hire experts flutter develo...</td>\n",
       "    </tr>\n",
       "    <tr>\n",
       "      <th>1</th>\n",
       "      <td>1</td>\n",
       "      <td>Django Developer</td>\n",
       "      <td>PYTHON/DJANGO (Developer/Lead) - Job Code(PDJ ...</td>\n",
       "      <td>Django Developer</td>\n",
       "      <td>python/django (developer/lead) - job code(pdj ...</td>\n",
       "    </tr>\n",
       "    <tr>\n",
       "      <th>2</th>\n",
       "      <td>2</td>\n",
       "      <td>Machine Learning</td>\n",
       "      <td>Data Scientist (Contractor)\\n\\nBangalore, IN\\n...</td>\n",
       "      <td>Machine Learning</td>\n",
       "      <td>data scientist (contractor)\\n\\nbangalore, in\\n...</td>\n",
       "    </tr>\n",
       "    <tr>\n",
       "      <th>3</th>\n",
       "      <td>3</td>\n",
       "      <td>iOS Developer</td>\n",
       "      <td>JOB DESCRIPTION:\\n\\nStrong framework outside o...</td>\n",
       "      <td>iOS Developer</td>\n",
       "      <td>job description:\\n\\nstrong framework outside o...</td>\n",
       "    </tr>\n",
       "    <tr>\n",
       "      <th>4</th>\n",
       "      <td>4</td>\n",
       "      <td>Full Stack Developer</td>\n",
       "      <td>job responsibility full stack engineer – react...</td>\n",
       "      <td>Full Stack Developer</td>\n",
       "      <td>job responsibility full stack engineer – react...</td>\n",
       "    </tr>\n",
       "    <tr>\n",
       "      <th>...</th>\n",
       "      <td>...</td>\n",
       "      <td>...</td>\n",
       "      <td>...</td>\n",
       "      <td>...</td>\n",
       "      <td>...</td>\n",
       "    </tr>\n",
       "    <tr>\n",
       "      <th>2272</th>\n",
       "      <td>2399</td>\n",
       "      <td>Backend Developer</td>\n",
       "      <td>Job Summary\\nPublished on : 26 days ago\\nVacan...</td>\n",
       "      <td>Backend Developer</td>\n",
       "      <td>job summary\\npublished on : 26 days ago\\nvacan...</td>\n",
       "    </tr>\n",
       "    <tr>\n",
       "      <th>2273</th>\n",
       "      <td>2400</td>\n",
       "      <td>Full Stack Developer</td>\n",
       "      <td>business entity cisco umbrella focus cloud-bas...</td>\n",
       "      <td>Full Stack Developer</td>\n",
       "      <td>business entity cisco umbrella focus cloud-bas...</td>\n",
       "    </tr>\n",
       "    <tr>\n",
       "      <th>2274</th>\n",
       "      <td>2401</td>\n",
       "      <td>Network Administrator</td>\n",
       "      <td>Urgently reqd in a college in Mohali\\nNetwork ...</td>\n",
       "      <td>Network Administrator</td>\n",
       "      <td>urgently reqd in a college in mohali\\nnetwork ...</td>\n",
       "    </tr>\n",
       "    <tr>\n",
       "      <th>2275</th>\n",
       "      <td>2402</td>\n",
       "      <td>Machine Learning</td>\n",
       "      <td>Key Responsibilities: Team leads for small or ...</td>\n",
       "      <td>Machine Learning</td>\n",
       "      <td>key responsibilities: team leads for small or ...</td>\n",
       "    </tr>\n",
       "    <tr>\n",
       "      <th>2276</th>\n",
       "      <td>2403</td>\n",
       "      <td>Full Stack Developer</td>\n",
       "      <td>leslie hindman auctioneer one nation 's leadin...</td>\n",
       "      <td>Full Stack Developer</td>\n",
       "      <td>leslie hindman auctioneer one nation 's leadin...</td>\n",
       "    </tr>\n",
       "  </tbody>\n",
       "</table>\n",
       "<p>2277 rows × 5 columns</p>\n",
       "</div>"
      ],
      "text/plain": [
       "      Unnamed: 0              Job Title  \\\n",
       "0              0      Flutter Developer   \n",
       "1              1       Django Developer   \n",
       "2              2       Machine Learning   \n",
       "3              3          iOS Developer   \n",
       "4              4   Full Stack Developer   \n",
       "...          ...                    ...   \n",
       "2272        2399      Backend Developer   \n",
       "2273        2400   Full Stack Developer   \n",
       "2274        2401  Network Administrator   \n",
       "2275        2402       Machine Learning   \n",
       "2276        2403   Full Stack Developer   \n",
       "\n",
       "                                        Job Description  \\\n",
       "0     We are looking for hire experts flutter develo...   \n",
       "1     PYTHON/DJANGO (Developer/Lead) - Job Code(PDJ ...   \n",
       "2     Data Scientist (Contractor)\\n\\nBangalore, IN\\n...   \n",
       "3     JOB DESCRIPTION:\\n\\nStrong framework outside o...   \n",
       "4     job responsibility full stack engineer – react...   \n",
       "...                                                 ...   \n",
       "2272  Job Summary\\nPublished on : 26 days ago\\nVacan...   \n",
       "2273  business entity cisco umbrella focus cloud-bas...   \n",
       "2274  Urgently reqd in a college in Mohali\\nNetwork ...   \n",
       "2275  Key Responsibilities: Team leads for small or ...   \n",
       "2276  leslie hindman auctioneer one nation 's leadin...   \n",
       "\n",
       "                       Jobs                                               tags  \n",
       "0         Flutter Developer  we are looking for hire experts flutter develo...  \n",
       "1          Django Developer  python/django (developer/lead) - job code(pdj ...  \n",
       "2          Machine Learning  data scientist (contractor)\\n\\nbangalore, in\\n...  \n",
       "3             iOS Developer  job description:\\n\\nstrong framework outside o...  \n",
       "4      Full Stack Developer  job responsibility full stack engineer – react...  \n",
       "...                     ...                                                ...  \n",
       "2272      Backend Developer  job summary\\npublished on : 26 days ago\\nvacan...  \n",
       "2273   Full Stack Developer  business entity cisco umbrella focus cloud-bas...  \n",
       "2274  Network Administrator  urgently reqd in a college in mohali\\nnetwork ...  \n",
       "2275       Machine Learning  key responsibilities: team leads for small or ...  \n",
       "2276   Full Stack Developer  leslie hindman auctioneer one nation 's leadin...  \n",
       "\n",
       "[2277 rows x 5 columns]"
      ]
     },
     "execution_count": 23,
     "metadata": {},
     "output_type": "execute_result"
    }
   ],
   "source": [
    "jobs"
   ]
  },
  {
   "cell_type": "code",
   "execution_count": 9,
   "id": "e327ec07",
   "metadata": {},
   "outputs": [],
   "source": [
    "jobs['Jobs'] = jobs['Job Title'] "
   ]
  },
  {
   "cell_type": "code",
   "execution_count": 7,
   "id": "8119e19a",
   "metadata": {},
   "outputs": [
    {
     "data": {
      "text/plain": [
       "Unnamed: 0         0\n",
       "Job Title          0\n",
       "Job Description    0\n",
       "dtype: int64"
      ]
     },
     "execution_count": 7,
     "metadata": {},
     "output_type": "execute_result"
    }
   ],
   "source": [
    "jobs.isnull().sum()"
   ]
  },
  {
   "cell_type": "code",
   "execution_count": 8,
   "id": "3b7a3c8d",
   "metadata": {},
   "outputs": [
    {
     "data": {
      "text/plain": [
       "0"
      ]
     },
     "execution_count": 8,
     "metadata": {},
     "output_type": "execute_result"
    }
   ],
   "source": [
    "jobs.duplicated().sum()"
   ]
  },
  {
   "cell_type": "code",
   "execution_count": 10,
   "id": "5a934fda",
   "metadata": {},
   "outputs": [],
   "source": [
    "jobs['tags'] = jobs['Job Description'] + \" \" + jobs['Job Title']\n",
    "jobs['tags'] = jobs['tags'].apply(lambda x:x.lower())"
   ]
  },
  {
   "cell_type": "code",
   "execution_count": 11,
   "id": "4898a261",
   "metadata": {},
   "outputs": [
    {
     "data": {
      "text/plain": [
       "'we are looking for hire experts flutter developer. so you are eligible this post then apply your resume.\\njob types: full-time, part-time\\nsalary: ₹20,000.00 - ₹40,000.00 per month\\nbenefits:\\nflexible schedule\\nfood allowance\\nschedule:\\nday shift\\nsupplemental pay:\\njoining bonus\\novertime pay\\nexperience:\\ntotal work: 1 year (preferred)\\nhousing rent subsidy:\\nyes\\nindustry:\\nsoftware development\\nwork remotely:\\ntemporarily due to covid-19 flutter developer'"
      ]
     },
     "execution_count": 11,
     "metadata": {},
     "output_type": "execute_result"
    }
   ],
   "source": [
    "jobs['tags'][0]"
   ]
  },
  {
   "cell_type": "code",
   "execution_count": 12,
   "id": "aa0e72e3",
   "metadata": {},
   "outputs": [],
   "source": [
    "cv = CountVectorizer(max_features=100, stop_words='english')\n",
    "vectors = cv.fit_transform(jobs['tags']).toarray()\n",
    "vector = cv.fit_transform([\"javascript html cs  react.js node.js angular.js mongodb aws java developed user interface with modern javascript frame\"]).toarray()"
   ]
  },
  {
   "cell_type": "code",
   "execution_count": 13,
   "id": "7ae24641",
   "metadata": {},
   "outputs": [
    {
     "data": {
      "text/plain": [
       "array([[1, 1, 1, 1, 1, 1, 1, 1, 2, 3, 1, 1, 1, 1, 1]], dtype=int64)"
      ]
     },
     "execution_count": 13,
     "metadata": {},
     "output_type": "execute_result"
    }
   ],
   "source": [
    "vector"
   ]
  },
  {
   "cell_type": "code",
   "execution_count": 14,
   "id": "e2824c58",
   "metadata": {
    "scrolled": true
   },
   "outputs": [
    {
     "name": "stderr",
     "output_type": "stream",
     "text": [
      "C:\\Users\\shiva\\AppData\\Local\\Programs\\Python\\Python39\\lib\\site-packages\\sklearn\\utils\\deprecation.py:87: FutureWarning: Function get_feature_names is deprecated; get_feature_names is deprecated in 1.0 and will be removed in 1.2. Please use get_feature_names_out instead.\n",
      "  warnings.warn(msg, category=FutureWarning)\n"
     ]
    },
    {
     "data": {
      "text/plain": [
       "['angular',\n",
       " 'aws',\n",
       " 'cs',\n",
       " 'developed',\n",
       " 'frame',\n",
       " 'html',\n",
       " 'interface',\n",
       " 'java',\n",
       " 'javascript',\n",
       " 'js',\n",
       " 'modern',\n",
       " 'mongodb',\n",
       " 'node',\n",
       " 'react',\n",
       " 'user']"
      ]
     },
     "execution_count": 14,
     "metadata": {},
     "output_type": "execute_result"
    }
   ],
   "source": [
    "cv.get_feature_names()"
   ]
  },
  {
   "cell_type": "code",
   "execution_count": 15,
   "id": "1303749c",
   "metadata": {},
   "outputs": [
    {
     "data": {
      "text/plain": [
       "array([[2, 2, 0, ..., 0, 1, 0],\n",
       "       [0, 0, 1, ..., 2, 0, 0],\n",
       "       [0, 0, 2, ..., 0, 0, 1],\n",
       "       ...,\n",
       "       [2, 0, 0, ..., 0, 3, 0],\n",
       "       [0, 0, 0, ..., 2, 0, 0],\n",
       "       [0, 0, 0, ..., 2, 1, 0]], dtype=int64)"
      ]
     },
     "execution_count": 15,
     "metadata": {},
     "output_type": "execute_result"
    }
   ],
   "source": [
    "vectors"
   ]
  },
  {
   "cell_type": "code",
   "execution_count": 16,
   "id": "5a7664b4",
   "metadata": {},
   "outputs": [
    {
     "ename": "ValueError",
     "evalue": "Incompatible dimension for X and Y matrices: X.shape[1] == 100 while Y.shape[1] == 15",
     "output_type": "error",
     "traceback": [
      "\u001b[1;31m---------------------------------------------------------------------------\u001b[0m",
      "\u001b[1;31mValueError\u001b[0m                                Traceback (most recent call last)",
      "Input \u001b[1;32mIn [16]\u001b[0m, in \u001b[0;36m<cell line: 2>\u001b[1;34m()\u001b[0m\n\u001b[0;32m      1\u001b[0m similarity \u001b[38;5;241m=\u001b[39m cosine_similarity(vectors)\n\u001b[1;32m----> 2\u001b[0m s \u001b[38;5;241m=\u001b[39m cosine_similarity(vectors, vector)\n",
      "File \u001b[1;32m~\\AppData\\Local\\Programs\\Python\\Python39\\lib\\site-packages\\sklearn\\metrics\\pairwise.py:1251\u001b[0m, in \u001b[0;36mcosine_similarity\u001b[1;34m(X, Y, dense_output)\u001b[0m\n\u001b[0;32m   1217\u001b[0m \u001b[38;5;124;03m\"\"\"Compute cosine similarity between samples in X and Y.\u001b[39;00m\n\u001b[0;32m   1218\u001b[0m \n\u001b[0;32m   1219\u001b[0m \u001b[38;5;124;03mCosine similarity, or the cosine kernel, computes similarity as the\u001b[39;00m\n\u001b[1;32m   (...)\u001b[0m\n\u001b[0;32m   1247\u001b[0m \u001b[38;5;124;03mkernel matrix : ndarray of shape (n_samples_X, n_samples_Y)\u001b[39;00m\n\u001b[0;32m   1248\u001b[0m \u001b[38;5;124;03m\"\"\"\u001b[39;00m\n\u001b[0;32m   1249\u001b[0m \u001b[38;5;66;03m# to avoid recursive import\u001b[39;00m\n\u001b[1;32m-> 1251\u001b[0m X, Y \u001b[38;5;241m=\u001b[39m \u001b[43mcheck_pairwise_arrays\u001b[49m\u001b[43m(\u001b[49m\u001b[43mX\u001b[49m\u001b[43m,\u001b[49m\u001b[43m \u001b[49m\u001b[43mY\u001b[49m\u001b[43m)\u001b[49m\n\u001b[0;32m   1253\u001b[0m X_normalized \u001b[38;5;241m=\u001b[39m normalize(X, copy\u001b[38;5;241m=\u001b[39m\u001b[38;5;28;01mTrue\u001b[39;00m)\n\u001b[0;32m   1254\u001b[0m \u001b[38;5;28;01mif\u001b[39;00m X \u001b[38;5;129;01mis\u001b[39;00m Y:\n",
      "File \u001b[1;32m~\\AppData\\Local\\Programs\\Python\\Python39\\lib\\site-packages\\sklearn\\metrics\\pairwise.py:181\u001b[0m, in \u001b[0;36mcheck_pairwise_arrays\u001b[1;34m(X, Y, precomputed, dtype, accept_sparse, force_all_finite, copy)\u001b[0m\n\u001b[0;32m    175\u001b[0m         \u001b[38;5;28;01mraise\u001b[39;00m \u001b[38;5;167;01mValueError\u001b[39;00m(\n\u001b[0;32m    176\u001b[0m             \u001b[38;5;124m\"\u001b[39m\u001b[38;5;124mPrecomputed metric requires shape \u001b[39m\u001b[38;5;124m\"\u001b[39m\n\u001b[0;32m    177\u001b[0m             \u001b[38;5;124m\"\u001b[39m\u001b[38;5;124m(n_queries, n_indexed). Got (\u001b[39m\u001b[38;5;132;01m%d\u001b[39;00m\u001b[38;5;124m, \u001b[39m\u001b[38;5;132;01m%d\u001b[39;00m\u001b[38;5;124m) \u001b[39m\u001b[38;5;124m\"\u001b[39m\n\u001b[0;32m    178\u001b[0m             \u001b[38;5;124m\"\u001b[39m\u001b[38;5;124mfor \u001b[39m\u001b[38;5;132;01m%d\u001b[39;00m\u001b[38;5;124m indexed.\u001b[39m\u001b[38;5;124m\"\u001b[39m \u001b[38;5;241m%\u001b[39m (X\u001b[38;5;241m.\u001b[39mshape[\u001b[38;5;241m0\u001b[39m], X\u001b[38;5;241m.\u001b[39mshape[\u001b[38;5;241m1\u001b[39m], Y\u001b[38;5;241m.\u001b[39mshape[\u001b[38;5;241m0\u001b[39m])\n\u001b[0;32m    179\u001b[0m         )\n\u001b[0;32m    180\u001b[0m \u001b[38;5;28;01melif\u001b[39;00m X\u001b[38;5;241m.\u001b[39mshape[\u001b[38;5;241m1\u001b[39m] \u001b[38;5;241m!=\u001b[39m Y\u001b[38;5;241m.\u001b[39mshape[\u001b[38;5;241m1\u001b[39m]:\n\u001b[1;32m--> 181\u001b[0m     \u001b[38;5;28;01mraise\u001b[39;00m \u001b[38;5;167;01mValueError\u001b[39;00m(\n\u001b[0;32m    182\u001b[0m         \u001b[38;5;124m\"\u001b[39m\u001b[38;5;124mIncompatible dimension for X and Y matrices: \u001b[39m\u001b[38;5;124m\"\u001b[39m\n\u001b[0;32m    183\u001b[0m         \u001b[38;5;124m\"\u001b[39m\u001b[38;5;124mX.shape[1] == \u001b[39m\u001b[38;5;132;01m%d\u001b[39;00m\u001b[38;5;124m while Y.shape[1] == \u001b[39m\u001b[38;5;132;01m%d\u001b[39;00m\u001b[38;5;124m\"\u001b[39m \u001b[38;5;241m%\u001b[39m (X\u001b[38;5;241m.\u001b[39mshape[\u001b[38;5;241m1\u001b[39m], Y\u001b[38;5;241m.\u001b[39mshape[\u001b[38;5;241m1\u001b[39m])\n\u001b[0;32m    184\u001b[0m     )\n\u001b[0;32m    186\u001b[0m \u001b[38;5;28;01mreturn\u001b[39;00m X, Y\n",
      "\u001b[1;31mValueError\u001b[0m: Incompatible dimension for X and Y matrices: X.shape[1] == 100 while Y.shape[1] == 15"
     ]
    }
   ],
   "source": [
    "similarity = cosine_similarity(vectors)\n",
    "s = cosine_similarity(vectors, vector)"
   ]
  },
  {
   "cell_type": "code",
   "execution_count": 17,
   "id": "e0cb7d58",
   "metadata": {},
   "outputs": [
    {
     "data": {
      "text/plain": [
       "array([[1.        , 0.29180696, 0.25195163, ..., 0.54605352, 0.04004809,\n",
       "        0.36985705],\n",
       "       [0.29180696, 1.        , 0.47380354, ..., 0.26005202, 0.30809364,\n",
       "        0.6139954 ],\n",
       "       [0.25195163, 0.47380354, 1.        , ..., 0.14777012, 0.24384603,\n",
       "        0.47410466],\n",
       "       ...,\n",
       "       [0.54605352, 0.26005202, 0.14777012, ..., 1.        , 0.01509961,\n",
       "        0.2495417 ],\n",
       "       [0.04004809, 0.30809364, 0.24384603, ..., 0.01509961, 1.        ,\n",
       "        0.27129471],\n",
       "       [0.36985705, 0.6139954 , 0.47410466, ..., 0.2495417 , 0.27129471,\n",
       "        1.        ]])"
      ]
     },
     "execution_count": 17,
     "metadata": {},
     "output_type": "execute_result"
    }
   ],
   "source": [
    "similarity"
   ]
  },
  {
   "cell_type": "code",
   "execution_count": 21,
   "id": "0326d2ac",
   "metadata": {},
   "outputs": [],
   "source": [
    "def recommend(job):\n",
    "    job_index = jobs[jobs['Job Title'] == job].index[0]\n",
    "    distances = similarity[job_index]\n",
    "    jobs_list = sorted(list(enumerate(distances)), reverse=True, key=lambda x:x[1])[1:100]\n",
    "    \n",
    "    for i in jobs_list:\n",
    "        print(jobs.iloc[i[0]].Jobs)"
   ]
  },
  {
   "cell_type": "code",
   "execution_count": 26,
   "id": "01850602",
   "metadata": {},
   "outputs": [
    {
     "name": "stdout",
     "output_type": "stream",
     "text": [
      "iOS Developer\n",
      "iOS Developer\n",
      "iOS Developer\n",
      "iOS Developer\n",
      "iOS Developer\n",
      "iOS Developer\n",
      "iOS Developer\n",
      "Flutter Developer\n",
      "iOS Developer\n",
      "iOS Developer\n",
      "iOS Developer\n",
      "iOS Developer\n",
      "iOS Developer\n",
      "iOS Developer\n",
      "iOS Developer\n",
      "iOS Developer\n",
      "iOS Developer\n",
      "iOS Developer\n",
      "iOS Developer\n",
      "iOS Developer\n",
      "Flutter Developer\n",
      "iOS Developer\n",
      "iOS Developer\n",
      "iOS Developer\n",
      "iOS Developer\n",
      "iOS Developer\n",
      "Flutter Developer\n",
      "iOS Developer\n",
      "iOS Developer\n",
      "iOS Developer\n",
      "Flutter Developer\n",
      "iOS Developer\n",
      "Flutter Developer\n",
      "iOS Developer\n",
      "iOS Developer\n",
      "iOS Developer\n",
      "iOS Developer\n",
      "iOS Developer\n",
      "iOS Developer\n",
      "iOS Developer\n",
      "Flutter Developer\n",
      "iOS Developer\n",
      "iOS Developer\n",
      "iOS Developer\n",
      "iOS Developer\n",
      "iOS Developer\n",
      "Flutter Developer\n",
      "iOS Developer\n",
      "iOS Developer\n",
      "iOS Developer\n",
      "iOS Developer\n",
      "iOS Developer\n",
      "Flutter Developer\n",
      "iOS Developer\n",
      "iOS Developer\n",
      "iOS Developer\n",
      "iOS Developer\n",
      "iOS Developer\n",
      "iOS Developer\n",
      "iOS Developer\n",
      "iOS Developer\n",
      "iOS Developer\n",
      "iOS Developer\n",
      "Flutter Developer\n",
      "iOS Developer\n",
      "iOS Developer\n",
      "iOS Developer\n",
      "iOS Developer\n",
      "iOS Developer\n",
      "iOS Developer\n",
      "iOS Developer\n",
      "iOS Developer\n",
      "iOS Developer\n",
      "iOS Developer\n",
      "iOS Developer\n",
      "iOS Developer\n",
      "iOS Developer\n",
      "Flutter Developer\n",
      "iOS Developer\n",
      "iOS Developer\n",
      "iOS Developer\n",
      "iOS Developer\n",
      "iOS Developer\n",
      "iOS Developer\n",
      "iOS Developer\n",
      "Flutter Developer\n",
      "Backend Developer\n",
      "iOS Developer\n",
      "Flutter Developer\n",
      "Flutter Developer\n",
      "Flutter Developer\n",
      "iOS Developer\n",
      "Flutter Developer\n",
      "iOS Developer\n",
      "iOS Developer\n",
      "Flutter Developer\n",
      "iOS Developer\n",
      "iOS Developer\n",
      "iOS Developer\n"
     ]
    }
   ],
   "source": [
    "recommend('iOS Developer')"
   ]
  },
  {
   "cell_type": "code",
   "execution_count": 20,
   "id": "3426fb4a",
   "metadata": {},
   "outputs": [
    {
     "ename": "ValueError",
     "evalue": "could not convert string to float: 'sdfgsdfg'",
     "output_type": "error",
     "traceback": [
      "\u001b[1;31m---------------------------------------------------------------------------\u001b[0m",
      "\u001b[1;31mValueError\u001b[0m                                Traceback (most recent call last)",
      "Input \u001b[1;32mIn [20]\u001b[0m, in \u001b[0;36m<cell line: 1>\u001b[1;34m()\u001b[0m\n\u001b[1;32m----> 1\u001b[0m s \u001b[38;5;241m=\u001b[39m cosine_similarity(\u001b[38;5;124m\"\u001b[39m\u001b[38;5;124msdfgsdfg\u001b[39m\u001b[38;5;124m\"\u001b[39m, \u001b[38;5;124m\"\u001b[39m\u001b[38;5;124mewdfwsf\u001b[39m\u001b[38;5;124m\"\u001b[39m)\n",
      "File \u001b[1;32m~\\AppData\\Local\\Programs\\Python\\Python39\\lib\\site-packages\\sklearn\\metrics\\pairwise.py:1251\u001b[0m, in \u001b[0;36mcosine_similarity\u001b[1;34m(X, Y, dense_output)\u001b[0m\n\u001b[0;32m   1217\u001b[0m \u001b[38;5;124;03m\"\"\"Compute cosine similarity between samples in X and Y.\u001b[39;00m\n\u001b[0;32m   1218\u001b[0m \n\u001b[0;32m   1219\u001b[0m \u001b[38;5;124;03mCosine similarity, or the cosine kernel, computes similarity as the\u001b[39;00m\n\u001b[1;32m   (...)\u001b[0m\n\u001b[0;32m   1247\u001b[0m \u001b[38;5;124;03mkernel matrix : ndarray of shape (n_samples_X, n_samples_Y)\u001b[39;00m\n\u001b[0;32m   1248\u001b[0m \u001b[38;5;124;03m\"\"\"\u001b[39;00m\n\u001b[0;32m   1249\u001b[0m \u001b[38;5;66;03m# to avoid recursive import\u001b[39;00m\n\u001b[1;32m-> 1251\u001b[0m X, Y \u001b[38;5;241m=\u001b[39m \u001b[43mcheck_pairwise_arrays\u001b[49m\u001b[43m(\u001b[49m\u001b[43mX\u001b[49m\u001b[43m,\u001b[49m\u001b[43m \u001b[49m\u001b[43mY\u001b[49m\u001b[43m)\u001b[49m\n\u001b[0;32m   1253\u001b[0m X_normalized \u001b[38;5;241m=\u001b[39m normalize(X, copy\u001b[38;5;241m=\u001b[39m\u001b[38;5;28;01mTrue\u001b[39;00m)\n\u001b[0;32m   1254\u001b[0m \u001b[38;5;28;01mif\u001b[39;00m X \u001b[38;5;129;01mis\u001b[39;00m Y:\n",
      "File \u001b[1;32m~\\AppData\\Local\\Programs\\Python\\Python39\\lib\\site-packages\\sklearn\\metrics\\pairwise.py:156\u001b[0m, in \u001b[0;36mcheck_pairwise_arrays\u001b[1;34m(X, Y, precomputed, dtype, accept_sparse, force_all_finite, copy)\u001b[0m\n\u001b[0;32m    147\u001b[0m     X \u001b[38;5;241m=\u001b[39m Y \u001b[38;5;241m=\u001b[39m check_array(\n\u001b[0;32m    148\u001b[0m         X,\n\u001b[0;32m    149\u001b[0m         accept_sparse\u001b[38;5;241m=\u001b[39maccept_sparse,\n\u001b[1;32m   (...)\u001b[0m\n\u001b[0;32m    153\u001b[0m         estimator\u001b[38;5;241m=\u001b[39mestimator,\n\u001b[0;32m    154\u001b[0m     )\n\u001b[0;32m    155\u001b[0m \u001b[38;5;28;01melse\u001b[39;00m:\n\u001b[1;32m--> 156\u001b[0m     X \u001b[38;5;241m=\u001b[39m \u001b[43mcheck_array\u001b[49m\u001b[43m(\u001b[49m\n\u001b[0;32m    157\u001b[0m \u001b[43m        \u001b[49m\u001b[43mX\u001b[49m\u001b[43m,\u001b[49m\n\u001b[0;32m    158\u001b[0m \u001b[43m        \u001b[49m\u001b[43maccept_sparse\u001b[49m\u001b[38;5;241;43m=\u001b[39;49m\u001b[43maccept_sparse\u001b[49m\u001b[43m,\u001b[49m\n\u001b[0;32m    159\u001b[0m \u001b[43m        \u001b[49m\u001b[43mdtype\u001b[49m\u001b[38;5;241;43m=\u001b[39;49m\u001b[43mdtype\u001b[49m\u001b[43m,\u001b[49m\n\u001b[0;32m    160\u001b[0m \u001b[43m        \u001b[49m\u001b[43mcopy\u001b[49m\u001b[38;5;241;43m=\u001b[39;49m\u001b[43mcopy\u001b[49m\u001b[43m,\u001b[49m\n\u001b[0;32m    161\u001b[0m \u001b[43m        \u001b[49m\u001b[43mforce_all_finite\u001b[49m\u001b[38;5;241;43m=\u001b[39;49m\u001b[43mforce_all_finite\u001b[49m\u001b[43m,\u001b[49m\n\u001b[0;32m    162\u001b[0m \u001b[43m        \u001b[49m\u001b[43mestimator\u001b[49m\u001b[38;5;241;43m=\u001b[39;49m\u001b[43mestimator\u001b[49m\u001b[43m,\u001b[49m\n\u001b[0;32m    163\u001b[0m \u001b[43m    \u001b[49m\u001b[43m)\u001b[49m\n\u001b[0;32m    164\u001b[0m     Y \u001b[38;5;241m=\u001b[39m check_array(\n\u001b[0;32m    165\u001b[0m         Y,\n\u001b[0;32m    166\u001b[0m         accept_sparse\u001b[38;5;241m=\u001b[39maccept_sparse,\n\u001b[1;32m   (...)\u001b[0m\n\u001b[0;32m    170\u001b[0m         estimator\u001b[38;5;241m=\u001b[39mestimator,\n\u001b[0;32m    171\u001b[0m     )\n\u001b[0;32m    173\u001b[0m \u001b[38;5;28;01mif\u001b[39;00m precomputed:\n",
      "File \u001b[1;32m~\\AppData\\Local\\Programs\\Python\\Python39\\lib\\site-packages\\sklearn\\utils\\validation.py:746\u001b[0m, in \u001b[0;36mcheck_array\u001b[1;34m(array, accept_sparse, accept_large_sparse, dtype, order, copy, force_all_finite, ensure_2d, allow_nd, ensure_min_samples, ensure_min_features, estimator)\u001b[0m\n\u001b[0;32m    744\u001b[0m         array \u001b[38;5;241m=\u001b[39m array\u001b[38;5;241m.\u001b[39mastype(dtype, casting\u001b[38;5;241m=\u001b[39m\u001b[38;5;124m\"\u001b[39m\u001b[38;5;124munsafe\u001b[39m\u001b[38;5;124m\"\u001b[39m, copy\u001b[38;5;241m=\u001b[39m\u001b[38;5;28;01mFalse\u001b[39;00m)\n\u001b[0;32m    745\u001b[0m     \u001b[38;5;28;01melse\u001b[39;00m:\n\u001b[1;32m--> 746\u001b[0m         array \u001b[38;5;241m=\u001b[39m \u001b[43mnp\u001b[49m\u001b[38;5;241;43m.\u001b[39;49m\u001b[43masarray\u001b[49m\u001b[43m(\u001b[49m\u001b[43marray\u001b[49m\u001b[43m,\u001b[49m\u001b[43m \u001b[49m\u001b[43morder\u001b[49m\u001b[38;5;241;43m=\u001b[39;49m\u001b[43morder\u001b[49m\u001b[43m,\u001b[49m\u001b[43m \u001b[49m\u001b[43mdtype\u001b[49m\u001b[38;5;241;43m=\u001b[39;49m\u001b[43mdtype\u001b[49m\u001b[43m)\u001b[49m\n\u001b[0;32m    747\u001b[0m \u001b[38;5;28;01mexcept\u001b[39;00m ComplexWarning \u001b[38;5;28;01mas\u001b[39;00m complex_warning:\n\u001b[0;32m    748\u001b[0m     \u001b[38;5;28;01mraise\u001b[39;00m \u001b[38;5;167;01mValueError\u001b[39;00m(\n\u001b[0;32m    749\u001b[0m         \u001b[38;5;124m\"\u001b[39m\u001b[38;5;124mComplex data not supported\u001b[39m\u001b[38;5;130;01m\\n\u001b[39;00m\u001b[38;5;132;01m{}\u001b[39;00m\u001b[38;5;130;01m\\n\u001b[39;00m\u001b[38;5;124m\"\u001b[39m\u001b[38;5;241m.\u001b[39mformat(array)\n\u001b[0;32m    750\u001b[0m     ) \u001b[38;5;28;01mfrom\u001b[39;00m \u001b[38;5;21;01mcomplex_warning\u001b[39;00m\n",
      "\u001b[1;31mValueError\u001b[0m: could not convert string to float: 'sdfgsdfg'"
     ]
    }
   ],
   "source": [
    "s = cosine_similarity(\"sdfgsdfg\", \"ewdfwsf\")"
   ]
  },
  {
   "cell_type": "code",
   "execution_count": null,
   "id": "a6427525",
   "metadata": {},
   "outputs": [],
   "source": []
  }
 ],
 "metadata": {
  "kernelspec": {
   "display_name": "Python 3 (ipykernel)",
   "language": "python",
   "name": "python3"
  },
  "language_info": {
   "codemirror_mode": {
    "name": "ipython",
    "version": 3
   },
   "file_extension": ".py",
   "mimetype": "text/x-python",
   "name": "python",
   "nbconvert_exporter": "python",
   "pygments_lexer": "ipython3",
   "version": "3.9.8"
  }
 },
 "nbformat": 4,
 "nbformat_minor": 5
}
