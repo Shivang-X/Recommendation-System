{
 "cells": [
  {
   "cell_type": "code",
   "execution_count": 1,
   "id": "2883c5fe",
   "metadata": {},
   "outputs": [],
   "source": [
    "import pandas as pd\n",
    "from sklearn.feature_extraction.text import CountVectorizer\n",
    "from sklearn.metrics.pairwise import cosine_similarity"
   ]
  },
  {
   "cell_type": "code",
   "execution_count": 2,
   "id": "4a6aa916",
   "metadata": {},
   "outputs": [],
   "source": [
    "jobs = pd.read_csv(\"Internship.csv\")"
   ]
  },
  {
   "cell_type": "code",
   "execution_count": 3,
   "id": "6a5fcac0",
   "metadata": {
    "scrolled": false
   },
   "outputs": [
    {
     "data": {
      "text/html": [
       "<div>\n",
       "<style scoped>\n",
       "    .dataframe tbody tr th:only-of-type {\n",
       "        vertical-align: middle;\n",
       "    }\n",
       "\n",
       "    .dataframe tbody tr th {\n",
       "        vertical-align: top;\n",
       "    }\n",
       "\n",
       "    .dataframe thead th {\n",
       "        text-align: right;\n",
       "    }\n",
       "</style>\n",
       "<table border=\"1\" class=\"dataframe\">\n",
       "  <thead>\n",
       "    <tr style=\"text-align: right;\">\n",
       "      <th></th>\n",
       "      <th>ID</th>\n",
       "      <th>POSITION</th>\n",
       "      <th>SKILL</th>\n",
       "      <th>FIELD</th>\n",
       "      <th>POSITION_TYPE</th>\n",
       "      <th>EDUCATION_LEVEL</th>\n",
       "      <th>DURATION</th>\n",
       "      <th>ALLOW_WFH</th>\n",
       "    </tr>\n",
       "  </thead>\n",
       "  <tbody>\n",
       "    <tr>\n",
       "      <th>0</th>\n",
       "      <td>1</td>\n",
       "      <td>FRONTEND DEVELOPER</td>\n",
       "      <td>HTML,R,RUBY</td>\n",
       "      <td>CS</td>\n",
       "      <td>F</td>\n",
       "      <td>MP</td>\n",
       "      <td>6</td>\n",
       "      <td>1</td>\n",
       "    </tr>\n",
       "    <tr>\n",
       "      <th>1</th>\n",
       "      <td>2</td>\n",
       "      <td>MEAN STACK DEVELOPER</td>\n",
       "      <td>RUBY</td>\n",
       "      <td>CS</td>\n",
       "      <td>FT</td>\n",
       "      <td>M</td>\n",
       "      <td>6</td>\n",
       "      <td>0</td>\n",
       "    </tr>\n",
       "    <tr>\n",
       "      <th>2</th>\n",
       "      <td>3</td>\n",
       "      <td>FULL STACK DEVELOPER</td>\n",
       "      <td>C#</td>\n",
       "      <td>CS</td>\n",
       "      <td>F</td>\n",
       "      <td>BM</td>\n",
       "      <td>3</td>\n",
       "      <td>0</td>\n",
       "    </tr>\n",
       "    <tr>\n",
       "      <th>3</th>\n",
       "      <td>4</td>\n",
       "      <td>MEAN STACK DEVELOPER</td>\n",
       "      <td>KOTLIN</td>\n",
       "      <td>IT</td>\n",
       "      <td>FT</td>\n",
       "      <td>BM</td>\n",
       "      <td>6</td>\n",
       "      <td>0</td>\n",
       "    </tr>\n",
       "    <tr>\n",
       "      <th>4</th>\n",
       "      <td>5</td>\n",
       "      <td>WEB DEVELOPER</td>\n",
       "      <td>PYTHON,OBJECTIVE-C,JAVA</td>\n",
       "      <td>CS</td>\n",
       "      <td>FT</td>\n",
       "      <td>B</td>\n",
       "      <td>6</td>\n",
       "      <td>1</td>\n",
       "    </tr>\n",
       "    <tr>\n",
       "      <th>...</th>\n",
       "      <td>...</td>\n",
       "      <td>...</td>\n",
       "      <td>...</td>\n",
       "      <td>...</td>\n",
       "      <td>...</td>\n",
       "      <td>...</td>\n",
       "      <td>...</td>\n",
       "      <td>...</td>\n",
       "    </tr>\n",
       "    <tr>\n",
       "      <th>1995</th>\n",
       "      <td>1996</td>\n",
       "      <td>PRODUCT MANAGER</td>\n",
       "      <td>JAVASCRIPT,SWIFT</td>\n",
       "      <td>IT</td>\n",
       "      <td>PT</td>\n",
       "      <td>D</td>\n",
       "      <td>2</td>\n",
       "      <td>1</td>\n",
       "    </tr>\n",
       "    <tr>\n",
       "      <th>1996</th>\n",
       "      <td>1997</td>\n",
       "      <td>DATA SCIENTIST</td>\n",
       "      <td>C/C++,HTML</td>\n",
       "      <td>IT</td>\n",
       "      <td>FT</td>\n",
       "      <td>DBM</td>\n",
       "      <td>12</td>\n",
       "      <td>1</td>\n",
       "    </tr>\n",
       "    <tr>\n",
       "      <th>1997</th>\n",
       "      <td>1998</td>\n",
       "      <td>DATA ANALYST</td>\n",
       "      <td>FORTRAN</td>\n",
       "      <td>CS</td>\n",
       "      <td>F</td>\n",
       "      <td>BMP</td>\n",
       "      <td>3</td>\n",
       "      <td>0</td>\n",
       "    </tr>\n",
       "    <tr>\n",
       "      <th>1998</th>\n",
       "      <td>1999</td>\n",
       "      <td>PYTHON DEVELOPER</td>\n",
       "      <td>JAVASCRIPT</td>\n",
       "      <td>CS</td>\n",
       "      <td>F</td>\n",
       "      <td>DBMP</td>\n",
       "      <td>12</td>\n",
       "      <td>1</td>\n",
       "    </tr>\n",
       "    <tr>\n",
       "      <th>1999</th>\n",
       "      <td>2000</td>\n",
       "      <td>PYTHON DEVELOPER</td>\n",
       "      <td>C#</td>\n",
       "      <td>CS</td>\n",
       "      <td>F</td>\n",
       "      <td>DBMP</td>\n",
       "      <td>12</td>\n",
       "      <td>0</td>\n",
       "    </tr>\n",
       "  </tbody>\n",
       "</table>\n",
       "<p>2000 rows × 8 columns</p>\n",
       "</div>"
      ],
      "text/plain": [
       "        ID              POSITION                    SKILL FIELD POSITION_TYPE  \\\n",
       "0        1    FRONTEND DEVELOPER              HTML,R,RUBY    CS             F   \n",
       "1        2  MEAN STACK DEVELOPER                     RUBY    CS            FT   \n",
       "2        3  FULL STACK DEVELOPER                       C#    CS             F   \n",
       "3        4  MEAN STACK DEVELOPER                   KOTLIN    IT            FT   \n",
       "4        5         WEB DEVELOPER  PYTHON,OBJECTIVE-C,JAVA    CS            FT   \n",
       "...    ...                   ...                      ...   ...           ...   \n",
       "1995  1996       PRODUCT MANAGER         JAVASCRIPT,SWIFT    IT            PT   \n",
       "1996  1997        DATA SCIENTIST               C/C++,HTML    IT            FT   \n",
       "1997  1998          DATA ANALYST                  FORTRAN    CS             F   \n",
       "1998  1999      PYTHON DEVELOPER               JAVASCRIPT    CS             F   \n",
       "1999  2000      PYTHON DEVELOPER                       C#    CS             F   \n",
       "\n",
       "     EDUCATION_LEVEL  DURATION  ALLOW_WFH  \n",
       "0                 MP         6          1  \n",
       "1                  M         6          0  \n",
       "2                 BM         3          0  \n",
       "3                 BM         6          0  \n",
       "4                  B         6          1  \n",
       "...              ...       ...        ...  \n",
       "1995               D         2          1  \n",
       "1996             DBM        12          1  \n",
       "1997             BMP         3          0  \n",
       "1998            DBMP        12          1  \n",
       "1999            DBMP        12          0  \n",
       "\n",
       "[2000 rows x 8 columns]"
      ]
     },
     "execution_count": 3,
     "metadata": {},
     "output_type": "execute_result"
    }
   ],
   "source": [
    "jobs"
   ]
  },
  {
   "cell_type": "code",
   "execution_count": 4,
   "id": "82058819",
   "metadata": {},
   "outputs": [
    {
     "data": {
      "text/plain": [
       "ID                 0\n",
       "POSITION           0\n",
       "SKILL              0\n",
       "FIELD              0\n",
       "POSITION_TYPE      0\n",
       "EDUCATION_LEVEL    0\n",
       "DURATION           0\n",
       "ALLOW_WFH          0\n",
       "dtype: int64"
      ]
     },
     "execution_count": 4,
     "metadata": {},
     "output_type": "execute_result"
    }
   ],
   "source": [
    "jobs.isnull().sum()"
   ]
  },
  {
   "cell_type": "code",
   "execution_count": 5,
   "id": "d6f5c087",
   "metadata": {},
   "outputs": [],
   "source": [
    "jobs.dropna(inplace=True)"
   ]
  },
  {
   "cell_type": "code",
   "execution_count": 6,
   "id": "9e647b3b",
   "metadata": {},
   "outputs": [
    {
     "data": {
      "text/plain": [
       "0"
      ]
     },
     "execution_count": 6,
     "metadata": {},
     "output_type": "execute_result"
    }
   ],
   "source": [
    "jobs.duplicated().sum()"
   ]
  },
  {
   "cell_type": "code",
   "execution_count": 7,
   "id": "59a32653",
   "metadata": {},
   "outputs": [
    {
     "data": {
      "text/html": [
       "<div>\n",
       "<style scoped>\n",
       "    .dataframe tbody tr th:only-of-type {\n",
       "        vertical-align: middle;\n",
       "    }\n",
       "\n",
       "    .dataframe tbody tr th {\n",
       "        vertical-align: top;\n",
       "    }\n",
       "\n",
       "    .dataframe thead th {\n",
       "        text-align: right;\n",
       "    }\n",
       "</style>\n",
       "<table border=\"1\" class=\"dataframe\">\n",
       "  <thead>\n",
       "    <tr style=\"text-align: right;\">\n",
       "      <th></th>\n",
       "      <th>ID</th>\n",
       "      <th>POSITION</th>\n",
       "      <th>SKILL</th>\n",
       "      <th>FIELD</th>\n",
       "      <th>POSITION_TYPE</th>\n",
       "      <th>EDUCATION_LEVEL</th>\n",
       "      <th>DURATION</th>\n",
       "      <th>ALLOW_WFH</th>\n",
       "    </tr>\n",
       "  </thead>\n",
       "  <tbody>\n",
       "    <tr>\n",
       "      <th>0</th>\n",
       "      <td>1</td>\n",
       "      <td>FRONTEND DEVELOPER</td>\n",
       "      <td>HTML,R,RUBY</td>\n",
       "      <td>CS</td>\n",
       "      <td>F</td>\n",
       "      <td>MP</td>\n",
       "      <td>6</td>\n",
       "      <td>1</td>\n",
       "    </tr>\n",
       "    <tr>\n",
       "      <th>1</th>\n",
       "      <td>2</td>\n",
       "      <td>MEAN STACK DEVELOPER</td>\n",
       "      <td>RUBY</td>\n",
       "      <td>CS</td>\n",
       "      <td>FT</td>\n",
       "      <td>M</td>\n",
       "      <td>6</td>\n",
       "      <td>0</td>\n",
       "    </tr>\n",
       "    <tr>\n",
       "      <th>2</th>\n",
       "      <td>3</td>\n",
       "      <td>FULL STACK DEVELOPER</td>\n",
       "      <td>C#</td>\n",
       "      <td>CS</td>\n",
       "      <td>F</td>\n",
       "      <td>BM</td>\n",
       "      <td>3</td>\n",
       "      <td>0</td>\n",
       "    </tr>\n",
       "    <tr>\n",
       "      <th>3</th>\n",
       "      <td>4</td>\n",
       "      <td>MEAN STACK DEVELOPER</td>\n",
       "      <td>KOTLIN</td>\n",
       "      <td>IT</td>\n",
       "      <td>FT</td>\n",
       "      <td>BM</td>\n",
       "      <td>6</td>\n",
       "      <td>0</td>\n",
       "    </tr>\n",
       "    <tr>\n",
       "      <th>4</th>\n",
       "      <td>5</td>\n",
       "      <td>WEB DEVELOPER</td>\n",
       "      <td>PYTHON,OBJECTIVE-C,JAVA</td>\n",
       "      <td>CS</td>\n",
       "      <td>FT</td>\n",
       "      <td>B</td>\n",
       "      <td>6</td>\n",
       "      <td>1</td>\n",
       "    </tr>\n",
       "    <tr>\n",
       "      <th>...</th>\n",
       "      <td>...</td>\n",
       "      <td>...</td>\n",
       "      <td>...</td>\n",
       "      <td>...</td>\n",
       "      <td>...</td>\n",
       "      <td>...</td>\n",
       "      <td>...</td>\n",
       "      <td>...</td>\n",
       "    </tr>\n",
       "    <tr>\n",
       "      <th>1995</th>\n",
       "      <td>1996</td>\n",
       "      <td>PRODUCT MANAGER</td>\n",
       "      <td>JAVASCRIPT,SWIFT</td>\n",
       "      <td>IT</td>\n",
       "      <td>PT</td>\n",
       "      <td>D</td>\n",
       "      <td>2</td>\n",
       "      <td>1</td>\n",
       "    </tr>\n",
       "    <tr>\n",
       "      <th>1996</th>\n",
       "      <td>1997</td>\n",
       "      <td>DATA SCIENTIST</td>\n",
       "      <td>C/C++,HTML</td>\n",
       "      <td>IT</td>\n",
       "      <td>FT</td>\n",
       "      <td>DBM</td>\n",
       "      <td>12</td>\n",
       "      <td>1</td>\n",
       "    </tr>\n",
       "    <tr>\n",
       "      <th>1997</th>\n",
       "      <td>1998</td>\n",
       "      <td>DATA ANALYST</td>\n",
       "      <td>FORTRAN</td>\n",
       "      <td>CS</td>\n",
       "      <td>F</td>\n",
       "      <td>BMP</td>\n",
       "      <td>3</td>\n",
       "      <td>0</td>\n",
       "    </tr>\n",
       "    <tr>\n",
       "      <th>1998</th>\n",
       "      <td>1999</td>\n",
       "      <td>PYTHON DEVELOPER</td>\n",
       "      <td>JAVASCRIPT</td>\n",
       "      <td>CS</td>\n",
       "      <td>F</td>\n",
       "      <td>DBMP</td>\n",
       "      <td>12</td>\n",
       "      <td>1</td>\n",
       "    </tr>\n",
       "    <tr>\n",
       "      <th>1999</th>\n",
       "      <td>2000</td>\n",
       "      <td>PYTHON DEVELOPER</td>\n",
       "      <td>C#</td>\n",
       "      <td>CS</td>\n",
       "      <td>F</td>\n",
       "      <td>DBMP</td>\n",
       "      <td>12</td>\n",
       "      <td>0</td>\n",
       "    </tr>\n",
       "  </tbody>\n",
       "</table>\n",
       "<p>2000 rows × 8 columns</p>\n",
       "</div>"
      ],
      "text/plain": [
       "        ID              POSITION                    SKILL FIELD POSITION_TYPE  \\\n",
       "0        1    FRONTEND DEVELOPER              HTML,R,RUBY    CS             F   \n",
       "1        2  MEAN STACK DEVELOPER                     RUBY    CS            FT   \n",
       "2        3  FULL STACK DEVELOPER                       C#    CS             F   \n",
       "3        4  MEAN STACK DEVELOPER                   KOTLIN    IT            FT   \n",
       "4        5         WEB DEVELOPER  PYTHON,OBJECTIVE-C,JAVA    CS            FT   \n",
       "...    ...                   ...                      ...   ...           ...   \n",
       "1995  1996       PRODUCT MANAGER         JAVASCRIPT,SWIFT    IT            PT   \n",
       "1996  1997        DATA SCIENTIST               C/C++,HTML    IT            FT   \n",
       "1997  1998          DATA ANALYST                  FORTRAN    CS             F   \n",
       "1998  1999      PYTHON DEVELOPER               JAVASCRIPT    CS             F   \n",
       "1999  2000      PYTHON DEVELOPER                       C#    CS             F   \n",
       "\n",
       "     EDUCATION_LEVEL  DURATION  ALLOW_WFH  \n",
       "0                 MP         6          1  \n",
       "1                  M         6          0  \n",
       "2                 BM         3          0  \n",
       "3                 BM         6          0  \n",
       "4                  B         6          1  \n",
       "...              ...       ...        ...  \n",
       "1995               D         2          1  \n",
       "1996             DBM        12          1  \n",
       "1997             BMP         3          0  \n",
       "1998            DBMP        12          1  \n",
       "1999            DBMP        12          0  \n",
       "\n",
       "[2000 rows x 8 columns]"
      ]
     },
     "execution_count": 7,
     "metadata": {},
     "output_type": "execute_result"
    }
   ],
   "source": [
    "jobs"
   ]
  },
  {
   "cell_type": "code",
   "execution_count": 8,
   "id": "48ed7560",
   "metadata": {},
   "outputs": [],
   "source": [
    "jobs['POSITION'] = jobs['POSITION'].apply(lambda x:x.replace(' ', ''))"
   ]
  },
  {
   "cell_type": "code",
   "execution_count": 9,
   "id": "ef718e03",
   "metadata": {},
   "outputs": [],
   "source": [
    "jobs['SKILL'] = jobs['SKILL'].apply(lambda x:x.replace(',', ' '))"
   ]
  },
  {
   "cell_type": "code",
   "execution_count": 10,
   "id": "c8f2ef12",
   "metadata": {
    "scrolled": false
   },
   "outputs": [],
   "source": [
    "def convert(obj):\n",
    "    L = []\n",
    "    for i in obj:\n",
    "        L.append(i.replace(',', ' ').lower())\n",
    "    return L"
   ]
  },
  {
   "cell_type": "code",
   "execution_count": 11,
   "id": "ec764fa6",
   "metadata": {},
   "outputs": [
    {
     "data": {
      "text/html": [
       "<div>\n",
       "<style scoped>\n",
       "    .dataframe tbody tr th:only-of-type {\n",
       "        vertical-align: middle;\n",
       "    }\n",
       "\n",
       "    .dataframe tbody tr th {\n",
       "        vertical-align: top;\n",
       "    }\n",
       "\n",
       "    .dataframe thead th {\n",
       "        text-align: right;\n",
       "    }\n",
       "</style>\n",
       "<table border=\"1\" class=\"dataframe\">\n",
       "  <thead>\n",
       "    <tr style=\"text-align: right;\">\n",
       "      <th></th>\n",
       "      <th>ID</th>\n",
       "      <th>POSITION</th>\n",
       "      <th>SKILL</th>\n",
       "      <th>FIELD</th>\n",
       "      <th>POSITION_TYPE</th>\n",
       "      <th>EDUCATION_LEVEL</th>\n",
       "      <th>DURATION</th>\n",
       "      <th>ALLOW_WFH</th>\n",
       "    </tr>\n",
       "  </thead>\n",
       "  <tbody>\n",
       "    <tr>\n",
       "      <th>0</th>\n",
       "      <td>1</td>\n",
       "      <td>FRONTENDDEVELOPER</td>\n",
       "      <td>HTML R RUBY</td>\n",
       "      <td>CS</td>\n",
       "      <td>F</td>\n",
       "      <td>MP</td>\n",
       "      <td>6</td>\n",
       "      <td>1</td>\n",
       "    </tr>\n",
       "    <tr>\n",
       "      <th>1</th>\n",
       "      <td>2</td>\n",
       "      <td>MEANSTACKDEVELOPER</td>\n",
       "      <td>RUBY</td>\n",
       "      <td>CS</td>\n",
       "      <td>FT</td>\n",
       "      <td>M</td>\n",
       "      <td>6</td>\n",
       "      <td>0</td>\n",
       "    </tr>\n",
       "    <tr>\n",
       "      <th>2</th>\n",
       "      <td>3</td>\n",
       "      <td>FULLSTACKDEVELOPER</td>\n",
       "      <td>C#</td>\n",
       "      <td>CS</td>\n",
       "      <td>F</td>\n",
       "      <td>BM</td>\n",
       "      <td>3</td>\n",
       "      <td>0</td>\n",
       "    </tr>\n",
       "    <tr>\n",
       "      <th>3</th>\n",
       "      <td>4</td>\n",
       "      <td>MEANSTACKDEVELOPER</td>\n",
       "      <td>KOTLIN</td>\n",
       "      <td>IT</td>\n",
       "      <td>FT</td>\n",
       "      <td>BM</td>\n",
       "      <td>6</td>\n",
       "      <td>0</td>\n",
       "    </tr>\n",
       "    <tr>\n",
       "      <th>4</th>\n",
       "      <td>5</td>\n",
       "      <td>WEBDEVELOPER</td>\n",
       "      <td>PYTHON OBJECTIVE-C JAVA</td>\n",
       "      <td>CS</td>\n",
       "      <td>FT</td>\n",
       "      <td>B</td>\n",
       "      <td>6</td>\n",
       "      <td>1</td>\n",
       "    </tr>\n",
       "    <tr>\n",
       "      <th>...</th>\n",
       "      <td>...</td>\n",
       "      <td>...</td>\n",
       "      <td>...</td>\n",
       "      <td>...</td>\n",
       "      <td>...</td>\n",
       "      <td>...</td>\n",
       "      <td>...</td>\n",
       "      <td>...</td>\n",
       "    </tr>\n",
       "    <tr>\n",
       "      <th>1995</th>\n",
       "      <td>1996</td>\n",
       "      <td>PRODUCTMANAGER</td>\n",
       "      <td>JAVASCRIPT SWIFT</td>\n",
       "      <td>IT</td>\n",
       "      <td>PT</td>\n",
       "      <td>D</td>\n",
       "      <td>2</td>\n",
       "      <td>1</td>\n",
       "    </tr>\n",
       "    <tr>\n",
       "      <th>1996</th>\n",
       "      <td>1997</td>\n",
       "      <td>DATASCIENTIST</td>\n",
       "      <td>C/C++ HTML</td>\n",
       "      <td>IT</td>\n",
       "      <td>FT</td>\n",
       "      <td>DBM</td>\n",
       "      <td>12</td>\n",
       "      <td>1</td>\n",
       "    </tr>\n",
       "    <tr>\n",
       "      <th>1997</th>\n",
       "      <td>1998</td>\n",
       "      <td>DATAANALYST</td>\n",
       "      <td>FORTRAN</td>\n",
       "      <td>CS</td>\n",
       "      <td>F</td>\n",
       "      <td>BMP</td>\n",
       "      <td>3</td>\n",
       "      <td>0</td>\n",
       "    </tr>\n",
       "    <tr>\n",
       "      <th>1998</th>\n",
       "      <td>1999</td>\n",
       "      <td>PYTHONDEVELOPER</td>\n",
       "      <td>JAVASCRIPT</td>\n",
       "      <td>CS</td>\n",
       "      <td>F</td>\n",
       "      <td>DBMP</td>\n",
       "      <td>12</td>\n",
       "      <td>1</td>\n",
       "    </tr>\n",
       "    <tr>\n",
       "      <th>1999</th>\n",
       "      <td>2000</td>\n",
       "      <td>PYTHONDEVELOPER</td>\n",
       "      <td>C#</td>\n",
       "      <td>CS</td>\n",
       "      <td>F</td>\n",
       "      <td>DBMP</td>\n",
       "      <td>12</td>\n",
       "      <td>0</td>\n",
       "    </tr>\n",
       "  </tbody>\n",
       "</table>\n",
       "<p>2000 rows × 8 columns</p>\n",
       "</div>"
      ],
      "text/plain": [
       "        ID            POSITION                    SKILL FIELD POSITION_TYPE  \\\n",
       "0        1   FRONTENDDEVELOPER              HTML R RUBY    CS             F   \n",
       "1        2  MEANSTACKDEVELOPER                     RUBY    CS            FT   \n",
       "2        3  FULLSTACKDEVELOPER                       C#    CS             F   \n",
       "3        4  MEANSTACKDEVELOPER                   KOTLIN    IT            FT   \n",
       "4        5        WEBDEVELOPER  PYTHON OBJECTIVE-C JAVA    CS            FT   \n",
       "...    ...                 ...                      ...   ...           ...   \n",
       "1995  1996      PRODUCTMANAGER         JAVASCRIPT SWIFT    IT            PT   \n",
       "1996  1997       DATASCIENTIST               C/C++ HTML    IT            FT   \n",
       "1997  1998         DATAANALYST                  FORTRAN    CS             F   \n",
       "1998  1999     PYTHONDEVELOPER               JAVASCRIPT    CS             F   \n",
       "1999  2000     PYTHONDEVELOPER                       C#    CS             F   \n",
       "\n",
       "     EDUCATION_LEVEL  DURATION  ALLOW_WFH  \n",
       "0                 MP         6          1  \n",
       "1                  M         6          0  \n",
       "2                 BM         3          0  \n",
       "3                 BM         6          0  \n",
       "4                  B         6          1  \n",
       "...              ...       ...        ...  \n",
       "1995               D         2          1  \n",
       "1996             DBM        12          1  \n",
       "1997             BMP         3          0  \n",
       "1998            DBMP        12          1  \n",
       "1999            DBMP        12          0  \n",
       "\n",
       "[2000 rows x 8 columns]"
      ]
     },
     "execution_count": 11,
     "metadata": {},
     "output_type": "execute_result"
    }
   ],
   "source": [
    "jobs"
   ]
  },
  {
   "cell_type": "code",
   "execution_count": 12,
   "id": "a1aafd2b",
   "metadata": {},
   "outputs": [],
   "source": [
    "jobs['tags'] = jobs['POSITION'] + \" \" + jobs['SKILL']"
   ]
  },
  {
   "cell_type": "code",
   "execution_count": 13,
   "id": "883558ce",
   "metadata": {},
   "outputs": [],
   "source": [
    "# jobs['tags'].append(\"dsdsf\")\n",
    "# jobs['tags'] = jobs['tags'].loc[len(jobs['tags'])] = ['Amy']\n",
    "# jobs['tags']"
   ]
  },
  {
   "cell_type": "code",
   "execution_count": 14,
   "id": "387ff208",
   "metadata": {},
   "outputs": [],
   "source": [
    "cv = CountVectorizer(max_features=500, stop_words='english')\n",
    "# vectors = cv.fit_transform(jobs['tags']).toarray()\n",
    "a = jobs['tags'].tolist()\n",
    "a.append(\"C\\C++ PYTHON JAVA JAVASCRIPT FRONTENDDEVELOPER\")\n",
    "vectors = cv.fit_transform(a).toarray()\n",
    "similarity = cosine_similarity(vectors)"
   ]
  },
  {
   "cell_type": "code",
   "execution_count": 15,
   "id": "8bd21914",
   "metadata": {},
   "outputs": [
    {
     "name": "stdout",
     "output_type": "stream",
     "text": [
      "['FRONTENDDEVELOPER HTML R RUBY', 'MEANSTACKDEVELOPER RUBY', 'FULLSTACKDEVELOPER C#', 'MEANSTACKDEVELOPER KOTLIN', 'WEBDEVELOPER PYTHON OBJECTIVE-C JAVA', 'PRODUCTMANAGER COBOL', 'FULLSTACKDEVELOPER RUST PYTHON', 'MEANSTACKDEVELOPER FORTRAN', 'FRONTENDDEVELOPER OBJECTIVE-C PERL', 'PRODUCTMANAGER SWIFT CSS DART', 'DATAANALYST COBOL', 'PYTHONDEVELOPER JULIA RUST PERL', 'PRODUCTMANAGER SQL CSS', 'PRODUCTMANAGER FORTRAN OBJECTIVE-C', 'FRONTENDDEVELOPER COBOL', 'FULLSTACKDEVELOPER PYTHON', 'FULLSTACKDEVELOPER R HTML PERL', 'WEBDEVELOPER OBJECTIVE-C PHP', 'JAVASCRIPTDEVELOPER SQL', 'RUBYONRAILSDEVELOPER RUST OBJECTIVE-C', 'BACKENDDEVELOPER FORTRAN RUST KOTLIN', 'PRODUCTMANAGER PERL RUST', 'REACTJSDEVELOPER CSS', 'BACKENDDEVELOPER JAVA SWIFT FORTRAN', 'PYTHONDEVELOPER FORTRAN DART', 'PYTHONDEVELOPER JAVASCRIPT C#', 'MEANSTACKDEVELOPER SWIFT JULIA PERL', 'MERNSTACKDEVELOPER JULIA', 'MEANSTACKDEVELOPER R PYTHON', 'JAVASCRIPTDEVELOPER RUST', 'FULLSTACKDEVELOPER DART C/C++', 'MEANSTACKDEVELOPER PYTHON KOTLIN', 'MERNSTACKDEVELOPER R FORTRAN', 'DATAANALYST OBJECTIVE-C', 'FULLSTACKDEVELOPER PYTHON CSS SWIFT', 'MEANSTACKDEVELOPER R KOTLIN', 'DATASCIENTIST PYTHON SWIFT', 'RUBYONRAILSDEVELOPER PYTHON FORTRAN SQL', 'REACTJSDEVELOPER PERL', 'WEBDEVELOPER JULIA PHP RUST', 'MERNSTACKDEVELOPER RUST KOTLIN', 'MERNSTACKDEVELOPER JAVA CSS', 'PYTHONDEVELOPER JAVA', 'FRONTENDDEVELOPER RUST', 'BACKENDDEVELOPER DART JULIA PHP', 'BACKENDDEVELOPER CSS FORTRAN', 'DATAANALYST CSS', 'FULLSTACKDEVELOPER HTML FORTRAN', 'MERNSTACKDEVELOPER C#', 'RUBYONRAILSDEVELOPER DART JULIA', 'FULLSTACKDEVELOPER SWIFT R', 'FULLSTACKDEVELOPER JULIA CSS FORTRAN', 'DATAANALYST PHP RUBY CSS', 'REACTJSDEVELOPER KOTLIN FORTRAN', 'DATAANALYST COBOL', 'DATASCIENTIST FORTRAN PHP CSS', 'DATAANALYST RUBY', 'PYTHONDEVELOPER COBOL OBJECTIVE-C JULIA', 'FRONTENDDEVELOPER C# HTML JAVASCRIPT', 'MERNSTACKDEVELOPER DART C/C++', 'JAVASCRIPTDEVELOPER RUBY', 'PYTHONDEVELOPER JULIA KOTLIN RUST', 'WEBDEVELOPER KOTLIN DART', 'RUBYONRAILSDEVELOPER DART OBJECTIVE-C JAVA', 'BACKENDDEVELOPER C#', 'JAVASCRIPTDEVELOPER JAVA COBOL FORTRAN', 'BACKENDDEVELOPER OBJECTIVE-C', 'JAVASCRIPTDEVELOPER FORTRAN', 'REACTJSDEVELOPER JAVASCRIPT CSS', 'MEANSTACKDEVELOPER C# JULIA', 'BACKENDDEVELOPER PERL PHP FORTRAN', 'FRONTENDDEVELOPER C/C++', 'FRONTENDDEVELOPER RUBY SWIFT KOTLIN', 'MEANSTACKDEVELOPER RUST CSS', 'FRONTENDDEVELOPER SWIFT RUBY JAVA', 'DATASCIENTIST RUBY', 'DATASCIENTIST COBOL', 'REACTJSDEVELOPER JAVASCRIPT HTML PERL', 'JAVASCRIPTDEVELOPER PERL', 'BACKENDDEVELOPER JULIA RUST SWIFT', 'MEANSTACKDEVELOPER COBOL KOTLIN R', 'DATASCIENTIST SWIFT KOTLIN', 'PRODUCTMANAGER SQL', 'DATASCIENTIST COBOL DART', 'FRONTENDDEVELOPER DART', 'RUBYONRAILSDEVELOPER C# PHP', 'DATAANALYST PHP C/C++', 'DATASCIENTIST FORTRAN JAVA JULIA', 'REACTJSDEVELOPER HTML RUST PHP', 'WEBDEVELOPER JAVASCRIPT FORTRAN', 'FULLSTACKDEVELOPER SWIFT JAVA PHP', 'FULLSTACKDEVELOPER RUST', 'REACTJSDEVELOPER R', 'RUBYONRAILSDEVELOPER R', 'MEANSTACKDEVELOPER PYTHON SWIFT CSS', 'RUBYONRAILSDEVELOPER PERL DART C#', 'PRODUCTMANAGER PERL', 'WEBDEVELOPER PYTHON DART', 'JAVASCRIPTDEVELOPER JAVA CSS', 'WEBDEVELOPER FORTRAN HTML', 'MEANSTACKDEVELOPER DART', 'REACTJSDEVELOPER JAVA JAVASCRIPT R', 'REACTJSDEVELOPER SQL', 'PYTHONDEVELOPER C#', 'WEBDEVELOPER KOTLIN', 'REACTJSDEVELOPER FORTRAN', 'MERNSTACKDEVELOPER C#', 'WEBDEVELOPER SWIFT PERL', 'DATAANALYST C#', 'JAVASCRIPTDEVELOPER PERL RUST FORTRAN', 'JAVASCRIPTDEVELOPER KOTLIN SQL PERL', 'RUBYONRAILSDEVELOPER R', 'FRONTENDDEVELOPER DART PERL', 'JAVASCRIPTDEVELOPER HTML SQL', 'PRODUCTMANAGER PHP', 'BACKENDDEVELOPER PYTHON PHP SQL', 'DATASCIENTIST RUST JAVASCRIPT', 'WEBDEVELOPER RUST', 'FRONTENDDEVELOPER R', 'BACKENDDEVELOPER COBOL PHP JULIA', 'REACTJSDEVELOPER PERL COBOL', 'FULLSTACKDEVELOPER HTML KOTLIN OBJECTIVE-C', 'FULLSTACKDEVELOPER JULIA CSS', 'RUBYONRAILSDEVELOPER PYTHON PERL', 'REACTJSDEVELOPER C/C++ HTML', 'JAVASCRIPTDEVELOPER JULIA FORTRAN', 'RUBYONRAILSDEVELOPER FORTRAN', 'PYTHONDEVELOPER COBOL CSS', 'PYTHONDEVELOPER JULIA RUBY', 'DATAANALYST FORTRAN', 'WEBDEVELOPER SQL', 'FRONTENDDEVELOPER OBJECTIVE-C', 'JAVASCRIPTDEVELOPER PERL', 'REACTJSDEVELOPER SQL RUBY', 'JAVASCRIPTDEVELOPER HTML JULIA', 'DATAANALYST C/C++ PYTHON', 'MEANSTACKDEVELOPER COBOL HTML JULIA', 'WEBDEVELOPER SQL COBOL JULIA', 'DATASCIENTIST PERL JAVA', 'PYTHONDEVELOPER CSS HTML JAVASCRIPT', 'JAVASCRIPTDEVELOPER OBJECTIVE-C SWIFT KOTLIN', 'MEANSTACKDEVELOPER SWIFT', 'FRONTENDDEVELOPER CSS C/C++', 'RUBYONRAILSDEVELOPER PHP RUBY R', 'WEBDEVELOPER C/C++ FORTRAN DART', 'FULLSTACKDEVELOPER PHP OBJECTIVE-C', 'RUBYONRAILSDEVELOPER PHP', 'WEBDEVELOPER C/C++ PHP C#', 'FRONTENDDEVELOPER DART', 'MERNSTACKDEVELOPER JAVASCRIPT CSS R', 'REACTJSDEVELOPER HTML', 'PYTHONDEVELOPER RUST', 'DATAANALYST FORTRAN', 'DATASCIENTIST PHP SQL FORTRAN', 'PYTHONDEVELOPER KOTLIN HTML', 'WEBDEVELOPER DART FORTRAN PYTHON', 'RUBYONRAILSDEVELOPER RUBY SQL KOTLIN', 'MERNSTACKDEVELOPER KOTLIN', 'JAVASCRIPTDEVELOPER DART', 'WEBDEVELOPER R KOTLIN', 'JAVASCRIPTDEVELOPER PYTHON OBJECTIVE-C KOTLIN', 'FRONTENDDEVELOPER FORTRAN JAVA', 'FRONTENDDEVELOPER C/C++', 'MEANSTACKDEVELOPER C#', 'REACTJSDEVELOPER CSS', 'MERNSTACKDEVELOPER CSS C/C++ JAVA', 'PYTHONDEVELOPER SQL FORTRAN', 'REACTJSDEVELOPER PYTHON HTML C#', 'RUBYONRAILSDEVELOPER COBOL', 'DATASCIENTIST JULIA', 'PRODUCTMANAGER JAVASCRIPT RUBY SQL', 'MERNSTACKDEVELOPER RUBY DART JAVA', 'RUBYONRAILSDEVELOPER PYTHON COBOL OBJECTIVE-C', 'JAVASCRIPTDEVELOPER R PYTHON', 'JAVASCRIPTDEVELOPER COBOL HTML KOTLIN', 'FRONTENDDEVELOPER C#', 'DATAANALYST HTML', 'RUBYONRAILSDEVELOPER R', 'RUBYONRAILSDEVELOPER HTML C# COBOL', 'MEANSTACKDEVELOPER C/C++', 'FRONTENDDEVELOPER C/C++', 'WEBDEVELOPER FORTRAN JAVASCRIPT', 'DATAANALYST RUST PERL OBJECTIVE-C', 'PYTHONDEVELOPER JAVASCRIPT C# KOTLIN', 'BACKENDDEVELOPER PYTHON KOTLIN PHP', 'PRODUCTMANAGER SWIFT C/C++ HTML', 'BACKENDDEVELOPER PERL', 'MEANSTACKDEVELOPER R PYTHON SQL', 'REACTJSDEVELOPER C/C++ HTML CSS', 'FRONTENDDEVELOPER HTML', 'BACKENDDEVELOPER PHP', 'MERNSTACKDEVELOPER SWIFT', 'MERNSTACKDEVELOPER PERL', 'DATAANALYST R', 'REACTJSDEVELOPER C# PERL OBJECTIVE-C', 'MEANSTACKDEVELOPER SWIFT DART', 'PYTHONDEVELOPER SQL FORTRAN', 'FRONTENDDEVELOPER PHP RUBY OBJECTIVE-C', 'REACTJSDEVELOPER C#', 'DATAANALYST DART', 'FRONTENDDEVELOPER FORTRAN C# PHP', 'PYTHONDEVELOPER CSS', 'JAVASCRIPTDEVELOPER SWIFT', 'WEBDEVELOPER PERL PHP JULIA', 'BACKENDDEVELOPER HTML JAVASCRIPT', 'REACTJSDEVELOPER RUST', 'DATAANALYST HTML R', 'FULLSTACKDEVELOPER OBJECTIVE-C FORTRAN JAVASCRIPT', 'DATASCIENTIST RUBY FORTRAN JAVASCRIPT', 'BACKENDDEVELOPER OBJECTIVE-C', 'JAVASCRIPTDEVELOPER SWIFT', 'WEBDEVELOPER JULIA COBOL', 'JAVASCRIPTDEVELOPER PYTHON CSS C/C++', 'REACTJSDEVELOPER RUBY DART FORTRAN', 'WEBDEVELOPER CSS JULIA', 'FRONTENDDEVELOPER PERL C/C++', 'RUBYONRAILSDEVELOPER C#', 'FULLSTACKDEVELOPER R HTML', 'WEBDEVELOPER C/C++ CSS', 'MEANSTACKDEVELOPER C# OBJECTIVE-C FORTRAN', 'RUBYONRAILSDEVELOPER OBJECTIVE-C', 'DATASCIENTIST DART JAVASCRIPT', 'PRODUCTMANAGER JAVA CSS C/C++', 'BACKENDDEVELOPER DART KOTLIN JULIA', 'FULLSTACKDEVELOPER RUBY JAVASCRIPT', 'FRONTENDDEVELOPER JULIA COBOL R', 'MEANSTACKDEVELOPER OBJECTIVE-C C#', 'JAVASCRIPTDEVELOPER CSS RUBY SQL', 'JAVASCRIPTDEVELOPER OBJECTIVE-C CSS', 'FULLSTACKDEVELOPER CSS RUST', 'MEANSTACKDEVELOPER HTML', 'DATAANALYST DART', 'REACTJSDEVELOPER RUST', 'FRONTENDDEVELOPER OBJECTIVE-C', 'DATASCIENTIST PYTHON', 'MEANSTACKDEVELOPER COBOL', 'JAVASCRIPTDEVELOPER FORTRAN', 'DATASCIENTIST PERL', 'PYTHONDEVELOPER PHP RUBY C#', 'DATAANALYST RUST FORTRAN', 'MERNSTACKDEVELOPER FORTRAN OBJECTIVE-C', 'BACKENDDEVELOPER JULIA CSS PYTHON', 'REACTJSDEVELOPER JAVA COBOL', 'JAVASCRIPTDEVELOPER COBOL R', 'BACKENDDEVELOPER JAVASCRIPT', 'JAVASCRIPTDEVELOPER R', 'FRONTENDDEVELOPER JAVASCRIPT', 'RUBYONRAILSDEVELOPER HTML', 'FRONTENDDEVELOPER R RUST', 'DATASCIENTIST C# PHP FORTRAN', 'RUBYONRAILSDEVELOPER OBJECTIVE-C', 'FULLSTACKDEVELOPER JAVA PERL JULIA', 'REACTJSDEVELOPER C/C++ PYTHON', 'BACKENDDEVELOPER C/C++ RUST HTML', 'RUBYONRAILSDEVELOPER JAVASCRIPT PYTHON RUBY', 'MEANSTACKDEVELOPER R', 'RUBYONRAILSDEVELOPER HTML PERL JULIA', 'RUBYONRAILSDEVELOPER JULIA C/C++ KOTLIN', 'FULLSTACKDEVELOPER DART C#', 'MEANSTACKDEVELOPER PYTHON', 'FULLSTACKDEVELOPER FORTRAN R', 'BACKENDDEVELOPER PHP CSS DART', 'MEANSTACKDEVELOPER KOTLIN', 'FULLSTACKDEVELOPER SQL C/C++', 'MEANSTACKDEVELOPER JAVASCRIPT', 'FRONTENDDEVELOPER RUBY KOTLIN', 'RUBYONRAILSDEVELOPER PERL', 'REACTJSDEVELOPER COBOL SWIFT CSS', 'DATAANALYST SQL', 'JAVASCRIPTDEVELOPER RUST', 'WEBDEVELOPER R JAVA PYTHON', 'PRODUCTMANAGER HTML FORTRAN SQL', 'REACTJSDEVELOPER JAVASCRIPT', 'RUBYONRAILSDEVELOPER JULIA SQL HTML', 'FULLSTACKDEVELOPER HTML', 'DATAANALYST JULIA C#', 'REACTJSDEVELOPER CSS', 'MEANSTACKDEVELOPER JAVA COBOL', 'FRONTENDDEVELOPER SWIFT', 'PRODUCTMANAGER COBOL', 'WEBDEVELOPER PYTHON JAVASCRIPT', 'PRODUCTMANAGER JAVA PHP', 'WEBDEVELOPER JAVASCRIPT JULIA KOTLIN', 'RUBYONRAILSDEVELOPER RUST RUBY JAVASCRIPT', 'REACTJSDEVELOPER JULIA PERL', 'MEANSTACKDEVELOPER FORTRAN JAVASCRIPT SQL', 'FRONTENDDEVELOPER PERL JAVASCRIPT CSS', 'PRODUCTMANAGER RUBY JULIA PHP', 'FULLSTACKDEVELOPER PYTHON HTML', 'WEBDEVELOPER C/C++', 'REACTJSDEVELOPER CSS RUBY', 'PYTHONDEVELOPER JAVASCRIPT SWIFT CSS', 'DATAANALYST C/C++', 'REACTJSDEVELOPER PERL PYTHON', 'DATAANALYST PHP C/C++', 'DATAANALYST PERL RUST R', 'MERNSTACKDEVELOPER PYTHON', 'JAVASCRIPTDEVELOPER C/C++', 'PRODUCTMANAGER RUBY CSS', 'DATASCIENTIST SQL CSS', 'FRONTENDDEVELOPER JAVASCRIPT FORTRAN', 'DATASCIENTIST PYTHON', 'JAVASCRIPTDEVELOPER HTML DART JAVA', 'MEANSTACKDEVELOPER JAVA KOTLIN OBJECTIVE-C', 'PYTHONDEVELOPER KOTLIN SWIFT SQL', 'PYTHONDEVELOPER CSS', 'DATASCIENTIST C/C++ OBJECTIVE-C', 'RUBYONRAILSDEVELOPER PYTHON RUBY CSS', 'FULLSTACKDEVELOPER PYTHON HTML DART', 'FULLSTACKDEVELOPER SQL DART PHP', 'MERNSTACKDEVELOPER CSS SQL OBJECTIVE-C', 'PRODUCTMANAGER FORTRAN RUBY PERL', 'FULLSTACKDEVELOPER KOTLIN DART COBOL', 'MERNSTACKDEVELOPER SWIFT', 'DATASCIENTIST RUST FORTRAN', 'MERNSTACKDEVELOPER PYTHON SQL RUBY', 'WEBDEVELOPER PERL KOTLIN C/C++', 'PRODUCTMANAGER CSS C/C++ KOTLIN', 'RUBYONRAILSDEVELOPER RUBY C# PYTHON', 'MERNSTACKDEVELOPER SWIFT JULIA', 'RUBYONRAILSDEVELOPER OBJECTIVE-C DART', 'PRODUCTMANAGER SWIFT R COBOL', 'PRODUCTMANAGER DART CSS JULIA', 'JAVASCRIPTDEVELOPER PHP RUBY', 'PRODUCTMANAGER R', 'MEANSTACKDEVELOPER SWIFT', 'MERNSTACKDEVELOPER JAVASCRIPT PYTHON', 'PRODUCTMANAGER HTML SWIFT', 'JAVASCRIPTDEVELOPER JULIA', 'MERNSTACKDEVELOPER PYTHON HTML JULIA', 'MEANSTACKDEVELOPER PYTHON FORTRAN', 'REACTJSDEVELOPER HTML', 'JAVASCRIPTDEVELOPER SQL RUST', 'REACTJSDEVELOPER SWIFT', 'FULLSTACKDEVELOPER JAVASCRIPT', 'DATASCIENTIST FORTRAN', 'BACKENDDEVELOPER SQL', 'FULLSTACKDEVELOPER RUBY HTML', 'DATASCIENTIST COBOL', 'JAVASCRIPTDEVELOPER JULIA JAVA', 'BACKENDDEVELOPER PHP HTML', 'RUBYONRAILSDEVELOPER OBJECTIVE-C', 'BACKENDDEVELOPER PERL R', 'RUBYONRAILSDEVELOPER PERL', 'PRODUCTMANAGER JAVASCRIPT', 'DATASCIENTIST HTML KOTLIN JAVASCRIPT', 'DATASCIENTIST JAVASCRIPT KOTLIN OBJECTIVE-C', 'DATASCIENTIST PERL R PYTHON', 'FULLSTACKDEVELOPER SQL', 'WEBDEVELOPER PHP PYTHON', 'BACKENDDEVELOPER JAVASCRIPT', 'WEBDEVELOPER R', 'DATAANALYST RUST', 'WEBDEVELOPER KOTLIN FORTRAN C#', 'JAVASCRIPTDEVELOPER DART OBJECTIVE-C PYTHON', 'DATASCIENTIST PHP OBJECTIVE-C FORTRAN', 'DATASCIENTIST KOTLIN OBJECTIVE-C PHP', 'BACKENDDEVELOPER FORTRAN PHP', 'DATAANALYST PERL CSS KOTLIN', 'FULLSTACKDEVELOPER R FORTRAN', 'PRODUCTMANAGER PHP', 'MERNSTACKDEVELOPER SWIFT C/C++ JAVASCRIPT', 'BACKENDDEVELOPER OBJECTIVE-C HTML', 'RUBYONRAILSDEVELOPER SWIFT FORTRAN', 'MERNSTACKDEVELOPER OBJECTIVE-C', 'REACTJSDEVELOPER CSS JAVA HTML', 'BACKENDDEVELOPER C# R PYTHON', 'MEANSTACKDEVELOPER DART RUBY JULIA', 'FULLSTACKDEVELOPER PYTHON KOTLIN', 'FRONTENDDEVELOPER R COBOL PHP', 'MEANSTACKDEVELOPER JULIA', 'PYTHONDEVELOPER HTML JAVA', 'WEBDEVELOPER CSS JAVASCRIPT', 'DATAANALYST JAVASCRIPT', 'RUBYONRAILSDEVELOPER JAVASCRIPT JAVA', 'PYTHONDEVELOPER PHP HTML', 'MEANSTACKDEVELOPER RUST OBJECTIVE-C HTML', 'BACKENDDEVELOPER JAVASCRIPT COBOL JULIA', 'PYTHONDEVELOPER JULIA KOTLIN CSS', 'FRONTENDDEVELOPER JAVASCRIPT R PYTHON', 'FRONTENDDEVELOPER SQL PYTHON HTML', 'JAVASCRIPTDEVELOPER HTML', 'WEBDEVELOPER OBJECTIVE-C JAVASCRIPT', 'FRONTENDDEVELOPER JAVASCRIPT DART C#', 'DATASCIENTIST PHP PERL FORTRAN', 'JAVASCRIPTDEVELOPER JAVA C/C++', 'JAVASCRIPTDEVELOPER COBOL CSS', 'WEBDEVELOPER KOTLIN COBOL', 'PYTHONDEVELOPER PHP R', 'PRODUCTMANAGER JULIA RUBY R', 'WEBDEVELOPER DART', 'WEBDEVELOPER PHP C# KOTLIN', 'MEANSTACKDEVELOPER C#', 'REACTJSDEVELOPER PHP KOTLIN', 'PYTHONDEVELOPER R', 'FULLSTACKDEVELOPER KOTLIN C# PERL', 'PRODUCTMANAGER DART HTML', 'FRONTENDDEVELOPER JULIA', 'DATASCIENTIST FORTRAN', 'JAVASCRIPTDEVELOPER RUST COBOL SQL', 'WEBDEVELOPER JAVA', 'BACKENDDEVELOPER C#', 'JAVASCRIPTDEVELOPER JAVA PHP OBJECTIVE-C', 'BACKENDDEVELOPER RUST SWIFT RUBY', 'FULLSTACKDEVELOPER RUST SQL', 'REACTJSDEVELOPER KOTLIN', 'REACTJSDEVELOPER JAVA PYTHON COBOL', 'PRODUCTMANAGER RUST', 'FULLSTACKDEVELOPER OBJECTIVE-C SQL DART', 'FRONTENDDEVELOPER PHP JAVASCRIPT', 'WEBDEVELOPER C# HTML C/C++', 'FULLSTACKDEVELOPER R PHP C/C++', 'MERNSTACKDEVELOPER HTML PERL FORTRAN', 'PRODUCTMANAGER CSS C/C++', 'MERNSTACKDEVELOPER FORTRAN COBOL', 'MEANSTACKDEVELOPER KOTLIN JULIA', 'DATASCIENTIST SWIFT', 'RUBYONRAILSDEVELOPER KOTLIN OBJECTIVE-C', 'FRONTENDDEVELOPER SWIFT FORTRAN RUBY', 'RUBYONRAILSDEVELOPER OBJECTIVE-C RUST PYTHON', 'DATAANALYST JAVA SWIFT', 'MERNSTACKDEVELOPER KOTLIN COBOL', 'BACKENDDEVELOPER OBJECTIVE-C RUST DART', 'RUBYONRAILSDEVELOPER C/C++ RUST', 'RUBYONRAILSDEVELOPER RUST PHP', 'MEANSTACKDEVELOPER COBOL RUST R', 'MERNSTACKDEVELOPER CSS DART RUBY', 'MEANSTACKDEVELOPER PERL OBJECTIVE-C', 'REACTJSDEVELOPER FORTRAN RUST SQL', 'MERNSTACKDEVELOPER R KOTLIN', 'WEBDEVELOPER RUST', 'REACTJSDEVELOPER JULIA PHP', 'PYTHONDEVELOPER OBJECTIVE-C JAVA', 'RUBYONRAILSDEVELOPER DART R FORTRAN', 'BACKENDDEVELOPER FORTRAN', 'DATAANALYST R', 'RUBYONRAILSDEVELOPER HTML R', 'MEANSTACKDEVELOPER SQL', 'JAVASCRIPTDEVELOPER SWIFT PYTHON RUST', 'REACTJSDEVELOPER R', 'REACTJSDEVELOPER JULIA JAVA PYTHON', 'RUBYONRAILSDEVELOPER COBOL', 'FRONTENDDEVELOPER RUBY JULIA FORTRAN', 'BACKENDDEVELOPER HTML SWIFT', 'PRODUCTMANAGER R RUST', 'FRONTENDDEVELOPER COBOL DART C/C++', 'JAVASCRIPTDEVELOPER PHP', 'REACTJSDEVELOPER JAVASCRIPT R JAVA', 'MEANSTACKDEVELOPER CSS HTML', 'WEBDEVELOPER C/C++ DART JULIA', 'JAVASCRIPTDEVELOPER PHP JAVA', 'RUBYONRAILSDEVELOPER JAVASCRIPT KOTLIN', 'DATASCIENTIST DART R JULIA', 'PRODUCTMANAGER JAVASCRIPT', 'MERNSTACKDEVELOPER OBJECTIVE-C SQL', 'BACKENDDEVELOPER COBOL', 'DATASCIENTIST PERL', 'BACKENDDEVELOPER CSS PERL COBOL', 'FULLSTACKDEVELOPER OBJECTIVE-C', 'RUBYONRAILSDEVELOPER JULIA C/C++ FORTRAN', 'MERNSTACKDEVELOPER RUST PHP', 'MERNSTACKDEVELOPER C/C++ PERL', 'REACTJSDEVELOPER JAVASCRIPT PERL', 'DATAANALYST PHP', 'PRODUCTMANAGER SQL KOTLIN JAVA', 'FULLSTACKDEVELOPER JAVASCRIPT', 'FULLSTACKDEVELOPER C#', 'DATASCIENTIST JULIA', 'DATAANALYST DART', 'PRODUCTMANAGER COBOL FORTRAN SWIFT', 'WEBDEVELOPER RUBY', 'WEBDEVELOPER CSS COBOL JAVASCRIPT', 'WEBDEVELOPER SQL JULIA OBJECTIVE-C', 'FULLSTACKDEVELOPER CSS KOTLIN SQL', 'FRONTENDDEVELOPER SQL HTML', 'BACKENDDEVELOPER SQL', 'FRONTENDDEVELOPER JAVASCRIPT KOTLIN', 'PRODUCTMANAGER RUBY HTML', 'MEANSTACKDEVELOPER CSS', 'PRODUCTMANAGER PYTHON PERL KOTLIN', 'RUBYONRAILSDEVELOPER JULIA DART', 'RUBYONRAILSDEVELOPER RUBY', 'JAVASCRIPTDEVELOPER RUST', 'MERNSTACKDEVELOPER JAVA DART', 'JAVASCRIPTDEVELOPER HTML', 'REACTJSDEVELOPER RUBY FORTRAN', 'BACKENDDEVELOPER HTML SWIFT PHP', 'DATAANALYST JAVASCRIPT RUBY PERL', 'PRODUCTMANAGER CSS', 'FULLSTACKDEVELOPER SQL RUST', 'RUBYONRAILSDEVELOPER RUST KOTLIN', 'MEANSTACKDEVELOPER COBOL', 'DATASCIENTIST DART COBOL', 'REACTJSDEVELOPER PHP RUBY PERL', 'DATASCIENTIST DART', 'REACTJSDEVELOPER JULIA', 'PRODUCTMANAGER SWIFT', 'FULLSTACKDEVELOPER C/C++', 'FRONTENDDEVELOPER SQL', 'WEBDEVELOPER OBJECTIVE-C DART', 'DATASCIENTIST RUBY SQL DART', 'DATASCIENTIST FORTRAN SWIFT', 'PRODUCTMANAGER C/C++ HTML FORTRAN', 'MEANSTACKDEVELOPER KOTLIN', 'WEBDEVELOPER JULIA', 'BACKENDDEVELOPER KOTLIN RUBY R', 'MEANSTACKDEVELOPER HTML', 'PRODUCTMANAGER C/C++ PYTHON PERL', 'DATAANALYST JAVASCRIPT DART PERL', 'JAVASCRIPTDEVELOPER RUBY SWIFT', 'REACTJSDEVELOPER HTML JAVA SQL', 'BACKENDDEVELOPER JAVA', 'REACTJSDEVELOPER RUBY C#', 'DATAANALYST HTML PERL', 'BACKENDDEVELOPER PHP SQL', 'JAVASCRIPTDEVELOPER R JAVASCRIPT DART', 'JAVASCRIPTDEVELOPER JAVA JAVASCRIPT C/C++', 'FRONTENDDEVELOPER PERL C# PHP', 'BACKENDDEVELOPER PYTHON JULIA SWIFT', 'PRODUCTMANAGER PYTHON', 'DATAANALYST OBJECTIVE-C C# JULIA', 'DATAANALYST PERL', 'DATASCIENTIST PYTHON JULIA SQL', 'DATASCIENTIST JAVASCRIPT CSS C/C++', 'DATAANALYST COBOL PYTHON', 'MERNSTACKDEVELOPER RUST CSS', 'BACKENDDEVELOPER DART FORTRAN KOTLIN', 'PRODUCTMANAGER DART PERL', 'RUBYONRAILSDEVELOPER R CSS SWIFT', 'DATASCIENTIST SWIFT JAVA RUST', 'FRONTENDDEVELOPER JAVASCRIPT PYTHON', 'JAVASCRIPTDEVELOPER PHP', 'FRONTENDDEVELOPER SWIFT PERL', 'BACKENDDEVELOPER KOTLIN FORTRAN', 'DATASCIENTIST JAVA', 'JAVASCRIPTDEVELOPER SQL', 'PRODUCTMANAGER JAVA PERL', 'BACKENDDEVELOPER OBJECTIVE-C', 'FRONTENDDEVELOPER OBJECTIVE-C', 'MEANSTACKDEVELOPER HTML JAVA PERL', 'FRONTENDDEVELOPER KOTLIN', 'JAVASCRIPTDEVELOPER OBJECTIVE-C', 'FRONTENDDEVELOPER CSS COBOL PYTHON', 'BACKENDDEVELOPER PHP C#', 'RUBYONRAILSDEVELOPER FORTRAN C# HTML', 'BACKENDDEVELOPER R KOTLIN C#', 'REACTJSDEVELOPER C# KOTLIN', 'WEBDEVELOPER CSS', 'JAVASCRIPTDEVELOPER RUST JULIA', 'PRODUCTMANAGER HTML C/C++ CSS', 'FRONTENDDEVELOPER C/C++', 'PRODUCTMANAGER KOTLIN SQL', 'WEBDEVELOPER RUBY', 'BACKENDDEVELOPER SQL DART', 'DATASCIENTIST PHP SWIFT', 'DATASCIENTIST RUST', 'MERNSTACKDEVELOPER JULIA', 'MEANSTACKDEVELOPER JULIA RUBY DART', 'WEBDEVELOPER C/C++', 'FRONTENDDEVELOPER CSS PHP RUBY', 'RUBYONRAILSDEVELOPER R', 'DATAANALYST SQL', 'BACKENDDEVELOPER JAVA', 'MEANSTACKDEVELOPER C/C++ PYTHON', 'BACKENDDEVELOPER COBOL', 'PYTHONDEVELOPER PYTHON', 'BACKENDDEVELOPER COBOL SWIFT', 'WEBDEVELOPER FORTRAN', 'FULLSTACKDEVELOPER JULIA RUBY R', 'MEANSTACKDEVELOPER OBJECTIVE-C', 'WEBDEVELOPER R FORTRAN', 'PRODUCTMANAGER PHP C/C++', 'BACKENDDEVELOPER KOTLIN PYTHON', 'WEBDEVELOPER RUBY KOTLIN', 'REACTJSDEVELOPER PERL', 'RUBYONRAILSDEVELOPER PERL SWIFT', 'MERNSTACKDEVELOPER JULIA JAVASCRIPT', 'DATASCIENTIST C/C++ FORTRAN SQL', 'FULLSTACKDEVELOPER HTML RUBY KOTLIN', 'JAVASCRIPTDEVELOPER JAVASCRIPT COBOL FORTRAN', 'DATAANALYST RUBY C#', 'WEBDEVELOPER JAVA FORTRAN RUBY', 'MERNSTACKDEVELOPER C/C++', 'RUBYONRAILSDEVELOPER C# CSS', 'WEBDEVELOPER R CSS', 'MERNSTACKDEVELOPER JULIA C/C++ C#', 'WEBDEVELOPER DART JAVA', 'PYTHONDEVELOPER DART OBJECTIVE-C', 'DATASCIENTIST C# JAVA', 'DATASCIENTIST DART', 'DATAANALYST JAVA', 'PRODUCTMANAGER RUST', 'FRONTENDDEVELOPER R JULIA SWIFT', 'JAVASCRIPTDEVELOPER C/C++', 'MERNSTACKDEVELOPER DART JAVASCRIPT', 'BACKENDDEVELOPER PERL SWIFT C/C++', 'REACTJSDEVELOPER C/C++ RUBY SQL', 'FRONTENDDEVELOPER SQL JAVASCRIPT KOTLIN', 'DATAANALYST PERL PYTHON C/C++', 'MEANSTACKDEVELOPER JAVA JULIA PYTHON', 'DATASCIENTIST HTML', 'PYTHONDEVELOPER C# PYTHON HTML', 'DATASCIENTIST COBOL', 'FULLSTACKDEVELOPER RUBY JAVASCRIPT', 'FRONTENDDEVELOPER CSS HTML SWIFT', 'DATAANALYST C/C++ JULIA', 'WEBDEVELOPER RUBY', 'RUBYONRAILSDEVELOPER RUBY DART', 'FULLSTACKDEVELOPER R', 'DATAANALYST C#', 'BACKENDDEVELOPER PERL', 'FULLSTACKDEVELOPER PERL RUST', 'MERNSTACKDEVELOPER C/C++ SWIFT', 'REACTJSDEVELOPER HTML', 'DATASCIENTIST COBOL', 'FULLSTACKDEVELOPER PYTHON', 'FULLSTACKDEVELOPER RUBY', 'FULLSTACKDEVELOPER JAVA JAVASCRIPT CSS', 'DATASCIENTIST OBJECTIVE-C C/C++ JAVASCRIPT', 'MEANSTACKDEVELOPER KOTLIN OBJECTIVE-C', 'JAVASCRIPTDEVELOPER DART FORTRAN PHP', 'MEANSTACKDEVELOPER CSS JAVA', 'BACKENDDEVELOPER JAVA SWIFT', 'PRODUCTMANAGER CSS KOTLIN JAVA', 'FRONTENDDEVELOPER FORTRAN CSS', 'WEBDEVELOPER CSS C# SQL', 'BACKENDDEVELOPER C# PHP', 'MEANSTACKDEVELOPER PHP', 'DATAANALYST PYTHON C# SQL', 'MERNSTACKDEVELOPER RUST C#', 'PYTHONDEVELOPER R FORTRAN', 'FULLSTACKDEVELOPER DART OBJECTIVE-C', 'WEBDEVELOPER PERL COBOL', 'FULLSTACKDEVELOPER PHP OBJECTIVE-C', 'JAVASCRIPTDEVELOPER SQL RUST', 'JAVASCRIPTDEVELOPER SQL PHP', 'JAVASCRIPTDEVELOPER JAVASCRIPT', 'FULLSTACKDEVELOPER FORTRAN DART', 'DATAANALYST SWIFT JAVASCRIPT OBJECTIVE-C', 'MEANSTACKDEVELOPER KOTLIN C# CSS', 'WEBDEVELOPER SWIFT', 'FULLSTACKDEVELOPER JAVASCRIPT R KOTLIN', 'MEANSTACKDEVELOPER JULIA PHP SQL', 'DATAANALYST R C/C++ JULIA', 'FRONTENDDEVELOPER PERL C#', 'BACKENDDEVELOPER SQL', 'FULLSTACKDEVELOPER KOTLIN', 'RUBYONRAILSDEVELOPER C/C++ COBOL', 'FRONTENDDEVELOPER RUST JULIA', 'BACKENDDEVELOPER PERL', 'WEBDEVELOPER HTML SQL JULIA', 'MERNSTACKDEVELOPER COBOL DART', 'PYTHONDEVELOPER PERL PYTHON', 'WEBDEVELOPER JAVASCRIPT', 'BACKENDDEVELOPER SWIFT SQL R', 'FULLSTACKDEVELOPER RUBY', 'DATASCIENTIST SWIFT', 'WEBDEVELOPER C# SWIFT RUST', 'WEBDEVELOPER COBOL', 'PYTHONDEVELOPER PYTHON OBJECTIVE-C JAVA', 'REACTJSDEVELOPER DART', 'WEBDEVELOPER DART KOTLIN JULIA', 'MEANSTACKDEVELOPER SQL', 'DATASCIENTIST PERL', 'RUBYONRAILSDEVELOPER R RUST', 'PRODUCTMANAGER JAVA', 'JAVASCRIPTDEVELOPER SWIFT', 'DATAANALYST RUBY JAVA', 'FULLSTACKDEVELOPER DART', 'MEANSTACKDEVELOPER DART JULIA PYTHON', 'DATAANALYST PERL SQL', 'PRODUCTMANAGER SQL OBJECTIVE-C', 'REACTJSDEVELOPER PHP RUST', 'BACKENDDEVELOPER JAVASCRIPT R PYTHON', 'MERNSTACKDEVELOPER CSS', 'FRONTENDDEVELOPER KOTLIN RUST JAVA', 'REACTJSDEVELOPER PERL C/C++ PHP', 'FRONTENDDEVELOPER R DART', 'FULLSTACKDEVELOPER DART PHP', 'DATASCIENTIST HTML JAVA', 'FRONTENDDEVELOPER PHP', 'RUBYONRAILSDEVELOPER C/C++', 'FRONTENDDEVELOPER JULIA JAVASCRIPT R', 'PYTHONDEVELOPER CSS C#', 'FULLSTACKDEVELOPER C/C++ PERL COBOL', 'RUBYONRAILSDEVELOPER C/C++', 'JAVASCRIPTDEVELOPER SWIFT PERL DART', 'FULLSTACKDEVELOPER JAVASCRIPT JAVA', 'BACKENDDEVELOPER PERL KOTLIN', 'PYTHONDEVELOPER C#', 'RUBYONRAILSDEVELOPER DART C#', 'WEBDEVELOPER R COBOL', 'RUBYONRAILSDEVELOPER DART', 'DATAANALYST CSS', 'DATASCIENTIST R PERL', 'DATAANALYST JAVA', 'MERNSTACKDEVELOPER FORTRAN JAVA PHP', 'MEANSTACKDEVELOPER PERL RUST COBOL', 'MERNSTACKDEVELOPER COBOL SQL C#', 'PRODUCTMANAGER RUBY PHP', 'MEANSTACKDEVELOPER SWIFT C#', 'PYTHONDEVELOPER SWIFT', 'JAVASCRIPTDEVELOPER SWIFT PHP', 'REACTJSDEVELOPER HTML COBOL', 'DATAANALYST JULIA', 'PRODUCTMANAGER DART', 'MERNSTACKDEVELOPER DART', 'BACKENDDEVELOPER RUBY', 'BACKENDDEVELOPER SWIFT CSS', 'FULLSTACKDEVELOPER JAVASCRIPT SQL', 'MERNSTACKDEVELOPER COBOL', 'FULLSTACKDEVELOPER R FORTRAN', 'RUBYONRAILSDEVELOPER PERL RUST RUBY', 'FRONTENDDEVELOPER JAVA', 'MERNSTACKDEVELOPER OBJECTIVE-C SQL PYTHON', 'FULLSTACKDEVELOPER SWIFT', 'PRODUCTMANAGER R SWIFT PYTHON', 'MEANSTACKDEVELOPER HTML SWIFT SQL', 'MERNSTACKDEVELOPER R CSS C/C++', 'MERNSTACKDEVELOPER JULIA PERL', 'MERNSTACKDEVELOPER JULIA C/C++ JAVASCRIPT', 'MEANSTACKDEVELOPER C# JULIA RUBY', 'BACKENDDEVELOPER RUBY PERL FORTRAN', 'PYTHONDEVELOPER JAVA JULIA', 'FULLSTACKDEVELOPER COBOL', 'FRONTENDDEVELOPER JAVASCRIPT JULIA OBJECTIVE-C', 'MEANSTACKDEVELOPER C/C++ HTML', 'REACTJSDEVELOPER DART FORTRAN', 'PRODUCTMANAGER HTML', 'PYTHONDEVELOPER C#', 'DATAANALYST SQL', 'FULLSTACKDEVELOPER PYTHON FORTRAN', 'DATAANALYST PERL PYTHON', 'PYTHONDEVELOPER DART RUBY', 'FRONTENDDEVELOPER OBJECTIVE-C JAVASCRIPT KOTLIN', 'PYTHONDEVELOPER SQL FORTRAN', 'FULLSTACKDEVELOPER C#', 'JAVASCRIPTDEVELOPER KOTLIN', 'PYTHONDEVELOPER DART', 'RUBYONRAILSDEVELOPER SQL', 'BACKENDDEVELOPER KOTLIN PYTHON C/C++', 'MEANSTACKDEVELOPER KOTLIN C# HTML', 'JAVASCRIPTDEVELOPER C# DART', 'DATAANALYST KOTLIN SQL', 'MERNSTACKDEVELOPER DART FORTRAN', 'WEBDEVELOPER KOTLIN C# JAVA', 'FULLSTACKDEVELOPER JAVASCRIPT SWIFT CSS', 'FULLSTACKDEVELOPER FORTRAN R KOTLIN', 'WEBDEVELOPER JULIA HTML KOTLIN', 'JAVASCRIPTDEVELOPER FORTRAN RUST DART', 'PRODUCTMANAGER HTML', 'DATAANALYST SQL C# PYTHON', 'WEBDEVELOPER OBJECTIVE-C C/C++', 'PRODUCTMANAGER COBOL', 'REACTJSDEVELOPER JAVASCRIPT PERL SWIFT', 'DATAANALYST JULIA SWIFT HTML', 'FRONTENDDEVELOPER HTML SQL', 'DATAANALYST C# JAVASCRIPT SQL', 'RUBYONRAILSDEVELOPER SWIFT RUBY COBOL', 'FULLSTACKDEVELOPER JULIA C/C++ PHP', 'JAVASCRIPTDEVELOPER JAVASCRIPT SQL RUBY', 'FRONTENDDEVELOPER C# KOTLIN', 'RUBYONRAILSDEVELOPER PERL SQL DART', 'PYTHONDEVELOPER PHP FORTRAN RUBY', 'REACTJSDEVELOPER SWIFT PYTHON SQL', 'MEANSTACKDEVELOPER JULIA PERL', 'PRODUCTMANAGER PHP CSS', 'DATAANALYST RUBY SWIFT JAVASCRIPT', 'JAVASCRIPTDEVELOPER C#', 'MEANSTACKDEVELOPER RUBY COBOL OBJECTIVE-C', 'REACTJSDEVELOPER FORTRAN', 'PYTHONDEVELOPER JAVA PHP', 'FRONTENDDEVELOPER HTML PYTHON', 'RUBYONRAILSDEVELOPER HTML OBJECTIVE-C CSS', 'BACKENDDEVELOPER HTML C#', 'DATASCIENTIST DART C/C++ PERL', 'FULLSTACKDEVELOPER DART RUBY', 'PYTHONDEVELOPER C# DART CSS', 'RUBYONRAILSDEVELOPER RUST RUBY', 'MERNSTACKDEVELOPER JAVASCRIPT OBJECTIVE-C PERL', 'DATAANALYST HTML', 'PYTHONDEVELOPER SQL PERL', 'DATASCIENTIST FORTRAN', 'PYTHONDEVELOPER RUST RUBY', 'DATAANALYST RUST COBOL PHP', 'FULLSTACKDEVELOPER C/C++', 'FRONTENDDEVELOPER PHP C#', 'REACTJSDEVELOPER SWIFT PYTHON JAVASCRIPT', 'DATAANALYST DART', 'MERNSTACKDEVELOPER HTML COBOL', 'DATAANALYST JAVA PYTHON OBJECTIVE-C', 'PYTHONDEVELOPER C# PERL', 'MERNSTACKDEVELOPER RUST SQL', 'WEBDEVELOPER HTML', 'REACTJSDEVELOPER COBOL', 'PYTHONDEVELOPER PYTHON', 'RUBYONRAILSDEVELOPER OBJECTIVE-C', 'PRODUCTMANAGER FORTRAN JULIA', 'JAVASCRIPTDEVELOPER KOTLIN', 'FRONTENDDEVELOPER CSS KOTLIN', 'RUBYONRAILSDEVELOPER JAVA R', 'MEANSTACKDEVELOPER FORTRAN', 'PRODUCTMANAGER PHP CSS DART', 'DATAANALYST PERL R HTML', 'RUBYONRAILSDEVELOPER KOTLIN C#', 'PYTHONDEVELOPER C/C++ HTML', 'JAVASCRIPTDEVELOPER JAVASCRIPT JULIA FORTRAN', 'MERNSTACKDEVELOPER HTML', 'REACTJSDEVELOPER FORTRAN', 'BACKENDDEVELOPER FORTRAN SQL', 'FRONTENDDEVELOPER SWIFT', 'RUBYONRAILSDEVELOPER SQL HTML', 'BACKENDDEVELOPER R', 'FULLSTACKDEVELOPER C/C++ R JULIA', 'BACKENDDEVELOPER SQL R', 'FULLSTACKDEVELOPER PERL', 'PYTHONDEVELOPER RUBY DART COBOL', 'BACKENDDEVELOPER PYTHON', 'FRONTENDDEVELOPER DART', 'MERNSTACKDEVELOPER PHP C/C++ RUBY', 'MERNSTACKDEVELOPER JAVASCRIPT PHP', 'REACTJSDEVELOPER JAVASCRIPT RUST JULIA', 'DATAANALYST OBJECTIVE-C PERL RUBY', 'FRONTENDDEVELOPER RUBY', 'MERNSTACKDEVELOPER PERL JAVASCRIPT', 'PRODUCTMANAGER JAVA', 'REACTJSDEVELOPER JAVA FORTRAN', 'PYTHONDEVELOPER CSS', 'MEANSTACKDEVELOPER COBOL', 'DATASCIENTIST JAVASCRIPT', 'RUBYONRAILSDEVELOPER JAVASCRIPT', 'PYTHONDEVELOPER PYTHON R OBJECTIVE-C', 'WEBDEVELOPER RUBY', 'REACTJSDEVELOPER HTML', 'MEANSTACKDEVELOPER C# KOTLIN HTML', 'DATAANALYST R COBOL', 'PYTHONDEVELOPER R', 'DATAANALYST R', 'PRODUCTMANAGER SQL RUBY PYTHON', 'REACTJSDEVELOPER JAVA R C#', 'REACTJSDEVELOPER KOTLIN HTML', 'DATASCIENTIST FORTRAN COBOL DART', 'MEANSTACKDEVELOPER JAVASCRIPT', 'JAVASCRIPTDEVELOPER KOTLIN JAVA', 'BACKENDDEVELOPER C/C++ SWIFT', 'WEBDEVELOPER CSS PERL', 'PYTHONDEVELOPER RUBY', 'PYTHONDEVELOPER SQL HTML', 'RUBYONRAILSDEVELOPER RUST PYTHON OBJECTIVE-C', 'WEBDEVELOPER FORTRAN PERL', 'PYTHONDEVELOPER HTML KOTLIN', 'PYTHONDEVELOPER JAVA SQL', 'FULLSTACKDEVELOPER C# RUST COBOL', 'DATASCIENTIST JULIA C# C/C++', 'MERNSTACKDEVELOPER KOTLIN', 'FRONTENDDEVELOPER C#', 'DATASCIENTIST R DART', 'FRONTENDDEVELOPER C/C++', 'BACKENDDEVELOPER DART', 'MEANSTACKDEVELOPER JAVASCRIPT PYTHON R', 'PRODUCTMANAGER PHP', 'FRONTENDDEVELOPER COBOL', 'DATAANALYST JAVASCRIPT', 'JAVASCRIPTDEVELOPER C# RUST R', 'PYTHONDEVELOPER PHP', 'REACTJSDEVELOPER SQL C#', 'FULLSTACKDEVELOPER C/C++ KOTLIN', 'MEANSTACKDEVELOPER PHP RUBY OBJECTIVE-C', 'PRODUCTMANAGER OBJECTIVE-C', 'MEANSTACKDEVELOPER SQL OBJECTIVE-C', 'PYTHONDEVELOPER R C/C++', 'FRONTENDDEVELOPER DART SWIFT', 'FULLSTACKDEVELOPER OBJECTIVE-C', 'PYTHONDEVELOPER JAVASCRIPT JULIA PHP', 'RUBYONRAILSDEVELOPER DART PERL', 'MERNSTACKDEVELOPER KOTLIN RUBY', 'RUBYONRAILSDEVELOPER JAVASCRIPT DART FORTRAN', 'JAVASCRIPTDEVELOPER C# HTML', 'MEANSTACKDEVELOPER RUBY', 'JAVASCRIPTDEVELOPER PERL JAVA', 'REACTJSDEVELOPER JAVASCRIPT C# PERL', 'MEANSTACKDEVELOPER PYTHON', 'BACKENDDEVELOPER SQL CSS OBJECTIVE-C', 'MERNSTACKDEVELOPER SWIFT RUBY', 'RUBYONRAILSDEVELOPER C# RUST HTML', 'WEBDEVELOPER SWIFT PERL DART', 'BACKENDDEVELOPER SWIFT R C#', 'DATASCIENTIST PERL DART RUBY', 'DATASCIENTIST JAVASCRIPT', 'FULLSTACKDEVELOPER JULIA OBJECTIVE-C RUST', 'PYTHONDEVELOPER C/C++', 'MEANSTACKDEVELOPER RUBY RUST', 'MEANSTACKDEVELOPER R JAVA', 'JAVASCRIPTDEVELOPER PYTHON KOTLIN', 'JAVASCRIPTDEVELOPER JAVA PYTHON KOTLIN', 'PRODUCTMANAGER FORTRAN', 'MERNSTACKDEVELOPER C# JULIA FORTRAN', 'DATAANALYST PERL', 'DATAANALYST R', 'PRODUCTMANAGER SWIFT RUST C#', 'BACKENDDEVELOPER DART PERL CSS', 'WEBDEVELOPER PHP OBJECTIVE-C', 'FRONTENDDEVELOPER RUBY CSS PYTHON', 'REACTJSDEVELOPER RUST CSS', 'WEBDEVELOPER JAVASCRIPT CSS COBOL', 'MERNSTACKDEVELOPER PYTHON', 'MEANSTACKDEVELOPER DART C/C++ HTML', 'MERNSTACKDEVELOPER SQL R', 'MERNSTACKDEVELOPER SQL C# HTML', 'PYTHONDEVELOPER JAVASCRIPT PERL KOTLIN', 'REACTJSDEVELOPER JAVA KOTLIN SQL', 'JAVASCRIPTDEVELOPER OBJECTIVE-C HTML', 'MEANSTACKDEVELOPER PHP KOTLIN PERL', 'PYTHONDEVELOPER OBJECTIVE-C', 'RUBYONRAILSDEVELOPER COBOL R JULIA', 'BACKENDDEVELOPER DART', 'FULLSTACKDEVELOPER JAVA', 'MEANSTACKDEVELOPER CSS JULIA FORTRAN', 'BACKENDDEVELOPER PHP HTML DART', 'FRONTENDDEVELOPER OBJECTIVE-C', 'DATAANALYST CSS COBOL PHP', 'JAVASCRIPTDEVELOPER PHP', 'FULLSTACKDEVELOPER CSS', 'FRONTENDDEVELOPER DART', 'FRONTENDDEVELOPER RUST KOTLIN', 'FULLSTACKDEVELOPER PHP HTML RUST', 'WEBDEVELOPER PERL DART', 'PYTHONDEVELOPER R COBOL', 'JAVASCRIPTDEVELOPER COBOL', 'RUBYONRAILSDEVELOPER CSS', 'RUBYONRAILSDEVELOPER RUBY', 'PYTHONDEVELOPER RUBY JULIA RUST', 'WEBDEVELOPER JAVASCRIPT KOTLIN SQL', 'PRODUCTMANAGER PERL R', 'MEANSTACKDEVELOPER HTML FORTRAN', 'PRODUCTMANAGER R FORTRAN RUBY', 'MERNSTACKDEVELOPER PHP', 'BACKENDDEVELOPER JULIA HTML KOTLIN', 'JAVASCRIPTDEVELOPER OBJECTIVE-C', 'DATAANALYST CSS PERL R', 'JAVASCRIPTDEVELOPER PHP OBJECTIVE-C JULIA', 'FULLSTACKDEVELOPER JAVASCRIPT JULIA', 'MEANSTACKDEVELOPER C/C++', 'PYTHONDEVELOPER C/C++ HTML SQL', 'DATASCIENTIST CSS JAVA', 'REACTJSDEVELOPER JULIA JAVA', 'PYTHONDEVELOPER RUST RUBY R', 'PRODUCTMANAGER COBOL JULIA', 'BACKENDDEVELOPER OBJECTIVE-C R SQL', 'FRONTENDDEVELOPER FORTRAN SQL PERL', 'PYTHONDEVELOPER CSS R SQL', 'MEANSTACKDEVELOPER R SWIFT HTML', 'WEBDEVELOPER JAVASCRIPT SQL RUST', 'MERNSTACKDEVELOPER DART', 'JAVASCRIPTDEVELOPER CSS R', 'MEANSTACKDEVELOPER PYTHON', 'FULLSTACKDEVELOPER PERL SWIFT', 'MERNSTACKDEVELOPER RUST PHP PERL', 'PYTHONDEVELOPER HTML JULIA', 'PRODUCTMANAGER JULIA DART', 'PYTHONDEVELOPER SWIFT DART', 'JAVASCRIPTDEVELOPER OBJECTIVE-C JAVA SQL', 'PRODUCTMANAGER C/C++', 'MEANSTACKDEVELOPER COBOL', 'PYTHONDEVELOPER PYTHON', 'WEBDEVELOPER C# RUST', 'PYTHONDEVELOPER RUBY HTML', 'PYTHONDEVELOPER JAVASCRIPT', 'MERNSTACKDEVELOPER JULIA', 'REACTJSDEVELOPER JULIA OBJECTIVE-C JAVASCRIPT', 'RUBYONRAILSDEVELOPER OBJECTIVE-C JAVASCRIPT PERL', 'FULLSTACKDEVELOPER JAVA DART CSS', 'RUBYONRAILSDEVELOPER KOTLIN FORTRAN JAVASCRIPT', 'BACKENDDEVELOPER RUST', 'JAVASCRIPTDEVELOPER JAVASCRIPT SQL CSS', 'WEBDEVELOPER RUST', 'MERNSTACKDEVELOPER COBOL', 'FULLSTACKDEVELOPER PYTHON KOTLIN COBOL', 'PYTHONDEVELOPER R', 'DATASCIENTIST JAVASCRIPT DART', 'FRONTENDDEVELOPER KOTLIN', 'DATASCIENTIST JAVA', 'MERNSTACKDEVELOPER PYTHON JAVA RUST', 'BACKENDDEVELOPER COBOL RUST', 'JAVASCRIPTDEVELOPER RUBY SWIFT', 'JAVASCRIPTDEVELOPER RUBY JAVA HTML', 'FULLSTACKDEVELOPER JULIA OBJECTIVE-C CSS', 'MERNSTACKDEVELOPER JULIA', 'BACKENDDEVELOPER SWIFT', 'DATAANALYST DART HTML RUST', 'JAVASCRIPTDEVELOPER R C#', 'BACKENDDEVELOPER SWIFT SQL OBJECTIVE-C', 'PRODUCTMANAGER JAVA', 'BACKENDDEVELOPER R CSS SQL', 'REACTJSDEVELOPER C/C++ PYTHON', 'MERNSTACKDEVELOPER C# JAVASCRIPT', 'BACKENDDEVELOPER KOTLIN FORTRAN JULIA', 'JAVASCRIPTDEVELOPER RUBY', 'WEBDEVELOPER JAVASCRIPT', 'BACKENDDEVELOPER JULIA', 'FRONTENDDEVELOPER RUBY', 'DATASCIENTIST C#', 'MEANSTACKDEVELOPER PERL RUST', 'WEBDEVELOPER KOTLIN C/C++', 'BACKENDDEVELOPER SWIFT PYTHON', 'REACTJSDEVELOPER R C#', 'WEBDEVELOPER SQL', 'BACKENDDEVELOPER PERL', 'WEBDEVELOPER OBJECTIVE-C KOTLIN HTML', 'WEBDEVELOPER JULIA', 'BACKENDDEVELOPER RUST', 'BACKENDDEVELOPER FORTRAN CSS OBJECTIVE-C', 'FRONTENDDEVELOPER RUBY CSS JULIA', 'WEBDEVELOPER RUBY C/C++', 'BACKENDDEVELOPER RUST', 'DATAANALYST FORTRAN', 'PRODUCTMANAGER RUBY PHP', 'FULLSTACKDEVELOPER C/C++ C#', 'MERNSTACKDEVELOPER FORTRAN SWIFT PYTHON', 'WEBDEVELOPER OBJECTIVE-C', 'BACKENDDEVELOPER R PYTHON', 'REACTJSDEVELOPER JAVASCRIPT', 'MERNSTACKDEVELOPER DART KOTLIN', 'MEANSTACKDEVELOPER C/C++ R', 'JAVASCRIPTDEVELOPER PYTHON', 'DATAANALYST SWIFT PYTHON', 'WEBDEVELOPER C# FORTRAN KOTLIN', 'MEANSTACKDEVELOPER RUBY', 'RUBYONRAILSDEVELOPER FORTRAN RUBY COBOL', 'FULLSTACKDEVELOPER DART', 'BACKENDDEVELOPER JULIA PHP DART', 'MERNSTACKDEVELOPER KOTLIN C# CSS', 'WEBDEVELOPER C/C++ FORTRAN', 'DATAANALYST DART CSS R', 'BACKENDDEVELOPER C/C++', 'BACKENDDEVELOPER PYTHON OBJECTIVE-C', 'DATAANALYST C#', 'PYTHONDEVELOPER KOTLIN JAVA', 'PYTHONDEVELOPER SQL', 'JAVASCRIPTDEVELOPER HTML CSS', 'PYTHONDEVELOPER PERL KOTLIN', 'PYTHONDEVELOPER SWIFT', 'PYTHONDEVELOPER RUBY KOTLIN', 'FRONTENDDEVELOPER SQL RUST', 'WEBDEVELOPER SWIFT', 'BACKENDDEVELOPER SQL SWIFT C/C++', 'REACTJSDEVELOPER C# RUST', 'MERNSTACKDEVELOPER RUST JAVA', 'WEBDEVELOPER SWIFT PERL KOTLIN', 'FRONTENDDEVELOPER RUBY OBJECTIVE-C', 'PRODUCTMANAGER C# HTML', 'BACKENDDEVELOPER OBJECTIVE-C SQL', 'DATASCIENTIST PYTHON', 'PYTHONDEVELOPER JULIA', 'WEBDEVELOPER PERL', 'FRONTENDDEVELOPER CSS SQL JULIA', 'MERNSTACKDEVELOPER RUST', 'RUBYONRAILSDEVELOPER PERL', 'DATAANALYST PHP', 'FULLSTACKDEVELOPER PHP RUST', 'JAVASCRIPTDEVELOPER CSS PHP', 'REACTJSDEVELOPER CSS C#', 'WEBDEVELOPER COBOL C/C++ HTML', 'RUBYONRAILSDEVELOPER HTML KOTLIN PERL', 'DATASCIENTIST PERL DART PYTHON', 'MEANSTACKDEVELOPER HTML', 'RUBYONRAILSDEVELOPER PYTHON C# C/C++', 'REACTJSDEVELOPER JAVASCRIPT RUBY', 'JAVASCRIPTDEVELOPER JAVASCRIPT', 'DATASCIENTIST PYTHON RUBY', 'DATASCIENTIST COBOL RUST', 'FRONTENDDEVELOPER COBOL', 'FULLSTACKDEVELOPER RUST FORTRAN HTML', 'DATAANALYST SQL', 'BACKENDDEVELOPER JAVA RUBY COBOL', 'REACTJSDEVELOPER HTML', 'PYTHONDEVELOPER JAVA', 'DATASCIENTIST CSS PHP C#', 'MERNSTACKDEVELOPER JAVA PERL', 'FULLSTACKDEVELOPER RUST', 'PRODUCTMANAGER C/C++', 'DATASCIENTIST DART JULIA HTML', 'DATASCIENTIST HTML', 'WEBDEVELOPER PERL', 'REACTJSDEVELOPER COBOL', 'FRONTENDDEVELOPER RUST JULIA', 'DATAANALYST CSS', 'PYTHONDEVELOPER PERL RUBY', 'PRODUCTMANAGER PYTHON PERL', 'BACKENDDEVELOPER CSS JULIA', 'FRONTENDDEVELOPER RUBY SQL C#', 'REACTJSDEVELOPER JAVASCRIPT', 'PYTHONDEVELOPER CSS', 'RUBYONRAILSDEVELOPER CSS', 'FULLSTACKDEVELOPER SWIFT', 'JAVASCRIPTDEVELOPER SWIFT', 'REACTJSDEVELOPER JAVA', 'RUBYONRAILSDEVELOPER OBJECTIVE-C COBOL PYTHON', 'MEANSTACKDEVELOPER PYTHON KOTLIN CSS', 'DATASCIENTIST JAVA', 'PRODUCTMANAGER JAVASCRIPT C/C++', 'PYTHONDEVELOPER JAVASCRIPT DART', 'MEANSTACKDEVELOPER SWIFT', 'BACKENDDEVELOPER HTML RUST', 'DATAANALYST R SQL FORTRAN', 'PRODUCTMANAGER RUST JAVASCRIPT HTML', 'BACKENDDEVELOPER COBOL', 'RUBYONRAILSDEVELOPER C#', 'RUBYONRAILSDEVELOPER JAVA', 'DATAANALYST SWIFT C#', 'PYTHONDEVELOPER PYTHON C/C++ HTML', 'MEANSTACKDEVELOPER RUST', 'REACTJSDEVELOPER SQL KOTLIN', 'REACTJSDEVELOPER JAVA', 'REACTJSDEVELOPER C/C++ R DART', 'REACTJSDEVELOPER CSS', 'MERNSTACKDEVELOPER C# JULIA', 'BACKENDDEVELOPER PHP FORTRAN C/C++', 'BACKENDDEVELOPER PERL KOTLIN', 'JAVASCRIPTDEVELOPER R', 'JAVASCRIPTDEVELOPER COBOL OBJECTIVE-C', 'JAVASCRIPTDEVELOPER HTML PHP JAVA', 'FULLSTACKDEVELOPER RUST SQL RUBY', 'MERNSTACKDEVELOPER KOTLIN JULIA', 'BACKENDDEVELOPER KOTLIN SWIFT C#', 'DATASCIENTIST C/C++ PYTHON', 'FULLSTACKDEVELOPER JAVA PERL JAVASCRIPT', 'DATASCIENTIST SWIFT', 'FULLSTACKDEVELOPER OBJECTIVE-C PHP', 'JAVASCRIPTDEVELOPER PYTHON RUST', 'PYTHONDEVELOPER C# PERL', 'REACTJSDEVELOPER DART PHP', 'RUBYONRAILSDEVELOPER COBOL', 'MEANSTACKDEVELOPER PHP', 'DATASCIENTIST COBOL JULIA PYTHON', 'MERNSTACKDEVELOPER HTML C# RUBY', 'PYTHONDEVELOPER C# KOTLIN CSS', 'BACKENDDEVELOPER OBJECTIVE-C', 'WEBDEVELOPER RUST CSS DART', 'PRODUCTMANAGER FORTRAN CSS DART', 'PYTHONDEVELOPER SQL RUST SWIFT', 'FRONTENDDEVELOPER SWIFT OBJECTIVE-C PYTHON', 'BACKENDDEVELOPER RUBY JAVA', 'MEANSTACKDEVELOPER RUBY', 'FRONTENDDEVELOPER R', 'RUBYONRAILSDEVELOPER SWIFT COBOL C#', 'PRODUCTMANAGER FORTRAN', 'MEANSTACKDEVELOPER JAVA KOTLIN', 'MEANSTACKDEVELOPER C# CSS', 'PRODUCTMANAGER HTML C# CSS', 'WEBDEVELOPER COBOL SWIFT', 'RUBYONRAILSDEVELOPER CSS', 'PYTHONDEVELOPER JAVA PERL', 'BACKENDDEVELOPER PERL FORTRAN HTML', 'FULLSTACKDEVELOPER C/C++ SQL DART', 'RUBYONRAILSDEVELOPER PERL', 'MEANSTACKDEVELOPER JAVA', 'MERNSTACKDEVELOPER RUST PERL', 'FULLSTACKDEVELOPER CSS PHP JAVA', 'MERNSTACKDEVELOPER RUST', 'PYTHONDEVELOPER RUBY OBJECTIVE-C', 'REACTJSDEVELOPER JAVA C#', 'DATAANALYST COBOL PERL', 'FRONTENDDEVELOPER SWIFT PYTHON COBOL', 'JAVASCRIPTDEVELOPER COBOL RUST', 'WEBDEVELOPER RUBY', 'FRONTENDDEVELOPER KOTLIN SWIFT JULIA', 'FRONTENDDEVELOPER SWIFT', 'DATAANALYST PHP', 'WEBDEVELOPER PERL FORTRAN', 'WEBDEVELOPER COBOL OBJECTIVE-C JAVA', 'MEANSTACKDEVELOPER SQL PHP', 'PYTHONDEVELOPER HTML PYTHON CSS', 'FULLSTACKDEVELOPER JAVA PHP RUBY', 'PYTHONDEVELOPER PERL', 'BACKENDDEVELOPER CSS', 'PRODUCTMANAGER PERL PHP C#', 'JAVASCRIPTDEVELOPER SQL PHP OBJECTIVE-C', 'WEBDEVELOPER RUST', 'PRODUCTMANAGER JULIA SWIFT C/C++', 'DATAANALYST C#', 'MERNSTACKDEVELOPER SWIFT', 'REACTJSDEVELOPER JAVA', 'FRONTENDDEVELOPER R JAVASCRIPT', 'DATAANALYST R FORTRAN PERL', 'WEBDEVELOPER R', 'BACKENDDEVELOPER DART PERL SWIFT', 'MERNSTACKDEVELOPER KOTLIN R C/C++', 'PRODUCTMANAGER JAVA', 'MERNSTACKDEVELOPER COBOL OBJECTIVE-C', 'DATASCIENTIST R C/C++', 'DATASCIENTIST CSS SQL', 'PYTHONDEVELOPER KOTLIN JAVASCRIPT', 'PYTHONDEVELOPER C# KOTLIN OBJECTIVE-C', 'DATASCIENTIST PHP PYTHON R', 'PYTHONDEVELOPER PHP C/C++ PERL', 'BACKENDDEVELOPER C#', 'PRODUCTMANAGER C/C++', 'PYTHONDEVELOPER R SQL', 'FRONTENDDEVELOPER JAVA', 'PRODUCTMANAGER SWIFT', 'FULLSTACKDEVELOPER PYTHON C/C++ FORTRAN', 'WEBDEVELOPER SQL JAVA', 'FULLSTACKDEVELOPER JAVASCRIPT PERL HTML', 'DATAANALYST SWIFT', 'DATASCIENTIST DART RUST PERL', 'FULLSTACKDEVELOPER C# JAVASCRIPT C/C++', 'FRONTENDDEVELOPER CSS RUBY JAVA', 'FULLSTACKDEVELOPER R KOTLIN SQL', 'PRODUCTMANAGER PHP R COBOL', 'PRODUCTMANAGER R PHP DART', 'BACKENDDEVELOPER PHP DART', 'REACTJSDEVELOPER JAVASCRIPT', 'FULLSTACKDEVELOPER DART RUST', 'FRONTENDDEVELOPER RUBY', 'PRODUCTMANAGER RUBY', 'DATAANALYST KOTLIN PHP', 'DATAANALYST SWIFT JAVASCRIPT DART', 'MEANSTACKDEVELOPER DART RUST R', 'BACKENDDEVELOPER JAVASCRIPT PHP SWIFT', 'WEBDEVELOPER DART HTML JAVASCRIPT', 'PRODUCTMANAGER RUBY C# RUST', 'MEANSTACKDEVELOPER SQL PYTHON', 'MEANSTACKDEVELOPER C/C++', 'DATAANALYST KOTLIN SQL C#', 'MEANSTACKDEVELOPER RUBY', 'BACKENDDEVELOPER HTML', 'RUBYONRAILSDEVELOPER PHP HTML PYTHON', 'MEANSTACKDEVELOPER SQL', 'RUBYONRAILSDEVELOPER C/C++ SQL SWIFT', 'RUBYONRAILSDEVELOPER JAVA SQL RUST', 'WEBDEVELOPER C/C++ R', 'FRONTENDDEVELOPER KOTLIN', 'PYTHONDEVELOPER OBJECTIVE-C DART JULIA', 'REACTJSDEVELOPER C/C++', 'REACTJSDEVELOPER JAVASCRIPT SWIFT PHP', 'MERNSTACKDEVELOPER PHP FORTRAN SQL', 'PRODUCTMANAGER PYTHON JAVASCRIPT DART', 'MEANSTACKDEVELOPER JAVA JULIA HTML', 'PYTHONDEVELOPER CSS', 'FULLSTACKDEVELOPER PYTHON', 'MERNSTACKDEVELOPER PYTHON SWIFT DART', 'BACKENDDEVELOPER JULIA', 'MEANSTACKDEVELOPER C/C++', 'WEBDEVELOPER KOTLIN', 'WEBDEVELOPER HTML PYTHON RUST', 'BACKENDDEVELOPER JAVASCRIPT', 'PRODUCTMANAGER COBOL FORTRAN', 'PYTHONDEVELOPER JAVA KOTLIN', 'JAVASCRIPTDEVELOPER RUST', 'WEBDEVELOPER RUBY', 'BACKENDDEVELOPER C/C++ R', 'DATAANALYST RUST JAVA KOTLIN', 'RUBYONRAILSDEVELOPER DART C/C++ FORTRAN', 'MERNSTACKDEVELOPER JULIA FORTRAN', 'REACTJSDEVELOPER COBOL FORTRAN JULIA', 'BACKENDDEVELOPER JULIA', 'PYTHONDEVELOPER KOTLIN', 'BACKENDDEVELOPER C/C++ PERL DART', 'JAVASCRIPTDEVELOPER JAVA CSS PERL', 'JAVASCRIPTDEVELOPER RUST', 'FRONTENDDEVELOPER JAVA', 'MERNSTACKDEVELOPER JULIA KOTLIN C/C++', 'PRODUCTMANAGER OBJECTIVE-C PERL', 'RUBYONRAILSDEVELOPER SQL DART RUBY', 'JAVASCRIPTDEVELOPER OBJECTIVE-C PHP', 'FRONTENDDEVELOPER HTML', 'MERNSTACKDEVELOPER C/C++ JULIA OBJECTIVE-C', 'RUBYONRAILSDEVELOPER RUBY', 'PRODUCTMANAGER RUBY', 'MERNSTACKDEVELOPER JAVASCRIPT', 'DATAANALYST CSS', 'RUBYONRAILSDEVELOPER SQL', 'MERNSTACKDEVELOPER RUBY SQL JAVA', 'DATAANALYST FORTRAN C/C++ HTML', 'WEBDEVELOPER SQL JAVASCRIPT', 'MERNSTACKDEVELOPER COBOL FORTRAN PYTHON', 'JAVASCRIPTDEVELOPER PHP DART SQL', 'RUBYONRAILSDEVELOPER JULIA RUBY', 'BACKENDDEVELOPER JULIA C/C++ PYTHON', 'DATAANALYST SWIFT COBOL KOTLIN', 'FULLSTACKDEVELOPER C#', 'PYTHONDEVELOPER C#', 'PYTHONDEVELOPER R JAVA', 'FULLSTACKDEVELOPER RUBY CSS', 'FRONTENDDEVELOPER CSS SWIFT', 'MEANSTACKDEVELOPER DART PYTHON C#', 'JAVASCRIPTDEVELOPER DART COBOL', 'MEANSTACKDEVELOPER COBOL FORTRAN', 'FRONTENDDEVELOPER C/C++ OBJECTIVE-C', 'PYTHONDEVELOPER RUBY', 'DATASCIENTIST KOTLIN CSS', 'WEBDEVELOPER HTML', 'MERNSTACKDEVELOPER R COBOL HTML', 'BACKENDDEVELOPER C#', 'DATASCIENTIST CSS', 'DATAANALYST RUST DART RUBY', 'JAVASCRIPTDEVELOPER SQL', 'REACTJSDEVELOPER HTML FORTRAN', 'MERNSTACKDEVELOPER R', 'DATASCIENTIST SWIFT R KOTLIN', 'REACTJSDEVELOPER PYTHON PHP SQL', 'DATASCIENTIST JAVA C/C++ JULIA', 'DATAANALYST FORTRAN RUST C/C++', 'DATASCIENTIST KOTLIN', 'MERNSTACKDEVELOPER JULIA CSS RUBY', 'FULLSTACKDEVELOPER JAVA RUST JAVASCRIPT', 'RUBYONRAILSDEVELOPER OBJECTIVE-C FORTRAN RUST', 'JAVASCRIPTDEVELOPER C# SWIFT JAVA', 'REACTJSDEVELOPER DART SWIFT', 'MEANSTACKDEVELOPER C#', 'PRODUCTMANAGER PHP COBOL', 'REACTJSDEVELOPER JAVA SQL', 'WEBDEVELOPER CSS DART', 'REACTJSDEVELOPER PERL JAVA DART', 'MERNSTACKDEVELOPER HTML PERL FORTRAN', 'DATAANALYST C/C++ RUBY', 'FRONTENDDEVELOPER COBOL', 'FULLSTACKDEVELOPER DART OBJECTIVE-C RUBY', 'DATASCIENTIST KOTLIN CSS C/C++', 'DATAANALYST RUST', 'WEBDEVELOPER RUST CSS', 'FRONTENDDEVELOPER PYTHON SWIFT DART', 'JAVASCRIPTDEVELOPER COBOL', 'MEANSTACKDEVELOPER C/C++ JULIA', 'JAVASCRIPTDEVELOPER DART PYTHON', 'DATASCIENTIST KOTLIN SQL DART', 'MEANSTACKDEVELOPER PERL', 'MERNSTACKDEVELOPER SWIFT', 'WEBDEVELOPER RUBY', 'MEANSTACKDEVELOPER JULIA RUBY C#', 'FRONTENDDEVELOPER JAVA', 'DATAANALYST R RUBY', 'DATAANALYST DART', 'PYTHONDEVELOPER JAVASCRIPT C#', 'RUBYONRAILSDEVELOPER COBOL SWIFT JULIA', 'JAVASCRIPTDEVELOPER OBJECTIVE-C PYTHON', 'DATASCIENTIST RUBY', 'MEANSTACKDEVELOPER KOTLIN SWIFT', 'DATAANALYST COBOL PERL', 'PYTHONDEVELOPER R JAVASCRIPT C#', 'BACKENDDEVELOPER HTML KOTLIN', 'WEBDEVELOPER JAVASCRIPT R', 'REACTJSDEVELOPER PHP', 'MEANSTACKDEVELOPER RUST JAVASCRIPT', 'PYTHONDEVELOPER PYTHON SWIFT', 'JAVASCRIPTDEVELOPER RUBY SWIFT JULIA', 'BACKENDDEVELOPER R', 'RUBYONRAILSDEVELOPER CSS PERL', 'FULLSTACKDEVELOPER COBOL', 'WEBDEVELOPER C/C++ RUST COBOL', 'DATAANALYST CSS', 'REACTJSDEVELOPER JAVASCRIPT', 'RUBYONRAILSDEVELOPER PHP PERL', 'REACTJSDEVELOPER JULIA FORTRAN', 'MERNSTACKDEVELOPER COBOL PYTHON FORTRAN', 'PYTHONDEVELOPER PERL', 'JAVASCRIPTDEVELOPER RUST', 'DATASCIENTIST RUST PHP SWIFT', 'DATASCIENTIST PERL C# FORTRAN', 'MEANSTACKDEVELOPER DART PERL', 'FULLSTACKDEVELOPER RUBY JULIA JAVA', 'DATASCIENTIST SWIFT C/C++', 'PRODUCTMANAGER PYTHON HTML', 'PYTHONDEVELOPER JAVA RUBY C/C++', 'MEANSTACKDEVELOPER FORTRAN RUST', 'MEANSTACKDEVELOPER JAVA JULIA', 'FULLSTACKDEVELOPER C/C++ HTML PYTHON', 'PYTHONDEVELOPER FORTRAN R C/C++', 'JAVASCRIPTDEVELOPER DART CSS', 'MERNSTACKDEVELOPER R', 'RUBYONRAILSDEVELOPER JAVASCRIPT PERL', 'DATAANALYST SWIFT OBJECTIVE-C JULIA', 'REACTJSDEVELOPER RUBY', 'DATASCIENTIST FORTRAN', 'DATAANALYST R SWIFT', 'BACKENDDEVELOPER RUST COBOL DART', 'JAVASCRIPTDEVELOPER JAVA RUBY', 'DATAANALYST OBJECTIVE-C PERL', 'RUBYONRAILSDEVELOPER JAVASCRIPT KOTLIN PERL', 'JAVASCRIPTDEVELOPER JULIA C/C++ OBJECTIVE-C', 'JAVASCRIPTDEVELOPER COBOL JULIA', 'FRONTENDDEVELOPER SQL RUST C/C++', 'RUBYONRAILSDEVELOPER JULIA COBOL', 'REACTJSDEVELOPER DART', 'MEANSTACKDEVELOPER C# PYTHON', 'BACKENDDEVELOPER C# PYTHON', 'PYTHONDEVELOPER OBJECTIVE-C', 'DATAANALYST HTML COBOL', 'DATASCIENTIST JULIA', 'PRODUCTMANAGER R', 'PRODUCTMANAGER C/C++ PHP', 'DATAANALYST JULIA PERL', 'FULLSTACKDEVELOPER CSS PHP DART', 'DATASCIENTIST DART', 'BACKENDDEVELOPER FORTRAN C# PHP', 'MERNSTACKDEVELOPER JAVASCRIPT', 'PRODUCTMANAGER RUST', 'DATASCIENTIST JAVA COBOL RUST', 'FULLSTACKDEVELOPER JAVASCRIPT SQL', 'DATAANALYST RUBY', 'JAVASCRIPTDEVELOPER OBJECTIVE-C C#', 'DATASCIENTIST C/C++ PYTHON', 'REACTJSDEVELOPER RUBY RUST', 'WEBDEVELOPER PHP CSS PYTHON', 'BACKENDDEVELOPER RUST', 'WEBDEVELOPER C# R', 'BACKENDDEVELOPER PHP RUBY', 'DATASCIENTIST C/C++', 'JAVASCRIPTDEVELOPER HTML', 'PYTHONDEVELOPER FORTRAN JAVA DART', 'FRONTENDDEVELOPER JULIA KOTLIN', 'MEANSTACKDEVELOPER HTML SWIFT OBJECTIVE-C', 'DATASCIENTIST HTML RUBY JAVASCRIPT', 'BACKENDDEVELOPER OBJECTIVE-C RUBY', 'RUBYONRAILSDEVELOPER CSS', 'WEBDEVELOPER R', 'PYTHONDEVELOPER SWIFT', 'JAVASCRIPTDEVELOPER JULIA C#', 'FRONTENDDEVELOPER JAVASCRIPT JAVA', 'WEBDEVELOPER RUBY PYTHON C#', 'FRONTENDDEVELOPER C# RUBY', 'FRONTENDDEVELOPER OBJECTIVE-C C/C++', 'WEBDEVELOPER PYTHON', 'JAVASCRIPTDEVELOPER RUST JULIA SWIFT', 'PRODUCTMANAGER PYTHON C/C++', 'BACKENDDEVELOPER SQL JULIA RUBY', 'JAVASCRIPTDEVELOPER COBOL', 'BACKENDDEVELOPER PERL COBOL', 'JAVASCRIPTDEVELOPER KOTLIN HTML JAVA', 'FULLSTACKDEVELOPER OBJECTIVE-C PERL', 'RUBYONRAILSDEVELOPER C/C++', 'BACKENDDEVELOPER CSS', 'FULLSTACKDEVELOPER OBJECTIVE-C HTML', 'DATAANALYST RUST JULIA R', 'MEANSTACKDEVELOPER C/C++', 'JAVASCRIPTDEVELOPER PYTHON R', 'MERNSTACKDEVELOPER DART C# C/C++', 'PRODUCTMANAGER RUST SQL', 'MERNSTACKDEVELOPER PYTHON', 'RUBYONRAILSDEVELOPER SWIFT DART', 'MEANSTACKDEVELOPER COBOL SWIFT FORTRAN', 'FULLSTACKDEVELOPER RUST OBJECTIVE-C JAVASCRIPT', 'DATAANALYST SWIFT JAVA HTML', 'PYTHONDEVELOPER C# DART', 'FRONTENDDEVELOPER DART COBOL', 'DATAANALYST SWIFT', 'PRODUCTMANAGER DART', 'DATASCIENTIST PERL', 'PRODUCTMANAGER RUST C#', 'RUBYONRAILSDEVELOPER CSS', 'JAVASCRIPTDEVELOPER SWIFT C#', 'FRONTENDDEVELOPER R', 'PRODUCTMANAGER RUBY DART', 'PRODUCTMANAGER DART RUBY', 'REACTJSDEVELOPER PERL HTML', 'FULLSTACKDEVELOPER JULIA', 'RUBYONRAILSDEVELOPER SWIFT', 'MERNSTACKDEVELOPER KOTLIN C/C++', 'MERNSTACKDEVELOPER CSS', 'FRONTENDDEVELOPER KOTLIN', 'WEBDEVELOPER R KOTLIN DART', 'MEANSTACKDEVELOPER C/C++ DART FORTRAN', 'FRONTENDDEVELOPER HTML', 'PRODUCTMANAGER R RUST SWIFT', 'DATAANALYST PYTHON DART', 'DATASCIENTIST R', 'PYTHONDEVELOPER PHP C#', 'REACTJSDEVELOPER OBJECTIVE-C', 'PRODUCTMANAGER COBOL KOTLIN', 'PRODUCTMANAGER KOTLIN', 'DATASCIENTIST CSS JAVASCRIPT C#', 'FULLSTACKDEVELOPER C# FORTRAN RUST', 'JAVASCRIPTDEVELOPER C/C++', 'JAVASCRIPTDEVELOPER KOTLIN CSS JAVA', 'MERNSTACKDEVELOPER SWIFT HTML JAVA', 'DATASCIENTIST DART PHP SWIFT', 'DATASCIENTIST RUST', 'DATASCIENTIST C# DART OBJECTIVE-C', 'REACTJSDEVELOPER RUBY CSS COBOL', 'RUBYONRAILSDEVELOPER FORTRAN KOTLIN SQL', 'DATASCIENTIST OBJECTIVE-C SQL', 'REACTJSDEVELOPER PHP', 'DATAANALYST OBJECTIVE-C', 'FULLSTACKDEVELOPER PERL RUST', 'MERNSTACKDEVELOPER SQL', 'DATASCIENTIST SWIFT', 'BACKENDDEVELOPER PYTHON JULIA', 'PRODUCTMANAGER SWIFT', 'REACTJSDEVELOPER HTML C#', 'BACKENDDEVELOPER PHP', 'JAVASCRIPTDEVELOPER RUBY PERL HTML', 'PYTHONDEVELOPER JULIA', 'RUBYONRAILSDEVELOPER C/C++', 'JAVASCRIPTDEVELOPER RUBY DART', 'FULLSTACKDEVELOPER C# PHP FORTRAN', 'PYTHONDEVELOPER SWIFT PERL', 'MEANSTACKDEVELOPER HTML SWIFT OBJECTIVE-C', 'JAVASCRIPTDEVELOPER JULIA DART PYTHON', 'RUBYONRAILSDEVELOPER RUST RUBY', 'DATASCIENTIST C# OBJECTIVE-C DART', 'MEANSTACKDEVELOPER KOTLIN', 'FULLSTACKDEVELOPER COBOL PYTHON JULIA', 'WEBDEVELOPER RUBY PHP R', 'DATASCIENTIST RUBY PERL JAVASCRIPT', 'REACTJSDEVELOPER JULIA', 'DATAANALYST PYTHON PERL', 'JAVASCRIPTDEVELOPER RUBY COBOL', 'FULLSTACKDEVELOPER RUBY', 'RUBYONRAILSDEVELOPER PYTHON FORTRAN', 'FULLSTACKDEVELOPER JAVASCRIPT PYTHON', 'WEBDEVELOPER C#', 'DATAANALYST JAVA', 'DATASCIENTIST KOTLIN JULIA', 'RUBYONRAILSDEVELOPER FORTRAN PERL', 'RUBYONRAILSDEVELOPER C# SWIFT', 'MERNSTACKDEVELOPER R JAVASCRIPT', 'PYTHONDEVELOPER SWIFT PHP', 'JAVASCRIPTDEVELOPER COBOL HTML JULIA', 'PRODUCTMANAGER RUST PHP', 'DATAANALYST PERL KOTLIN DART', 'MERNSTACKDEVELOPER SWIFT', 'PRODUCTMANAGER JAVA PYTHON', 'BACKENDDEVELOPER JAVASCRIPT KOTLIN', 'BACKENDDEVELOPER JAVA DART', 'BACKENDDEVELOPER DART', 'MERNSTACKDEVELOPER FORTRAN C/C++ PHP', 'DATASCIENTIST C#', 'PRODUCTMANAGER CSS', 'FRONTENDDEVELOPER COBOL', 'JAVASCRIPTDEVELOPER JULIA DART', 'DATASCIENTIST KOTLIN RUST', 'PRODUCTMANAGER RUST FORTRAN JAVASCRIPT', 'PYTHONDEVELOPER OBJECTIVE-C SQL JULIA', 'FULLSTACKDEVELOPER DART PERL OBJECTIVE-C', 'FULLSTACKDEVELOPER R PHP', 'MEANSTACKDEVELOPER HTML', 'DATAANALYST PHP KOTLIN', 'BACKENDDEVELOPER PHP R PERL', 'DATAANALYST CSS RUBY JAVASCRIPT', 'WEBDEVELOPER C# JAVA C/C++', 'REACTJSDEVELOPER JAVA COBOL', 'PRODUCTMANAGER KOTLIN PYTHON', 'WEBDEVELOPER OBJECTIVE-C COBOL RUBY', 'MEANSTACKDEVELOPER FORTRAN CSS', 'DATAANALYST PHP SQL JAVASCRIPT', 'DATASCIENTIST CSS R PHP', 'FULLSTACKDEVELOPER RUBY PERL COBOL', 'WEBDEVELOPER DART', 'DATAANALYST SWIFT HTML', 'PRODUCTMANAGER CSS', 'PYTHONDEVELOPER HTML SQL', 'PRODUCTMANAGER PERL', 'MERNSTACKDEVELOPER RUBY', 'FULLSTACKDEVELOPER PHP', 'JAVASCRIPTDEVELOPER KOTLIN', 'PYTHONDEVELOPER C# C/C++', 'MERNSTACKDEVELOPER SQL', 'WEBDEVELOPER JULIA PYTHON', 'DATAANALYST CSS C#', 'FRONTENDDEVELOPER KOTLIN', 'BACKENDDEVELOPER PYTHON', 'MERNSTACKDEVELOPER RUBY JAVA C/C++', 'PYTHONDEVELOPER COBOL', 'MEANSTACKDEVELOPER CSS', 'PRODUCTMANAGER COBOL JAVASCRIPT', 'FULLSTACKDEVELOPER SWIFT', 'DATAANALYST KOTLIN JAVASCRIPT DART', 'REACTJSDEVELOPER C/C++', 'DATASCIENTIST DART', 'RUBYONRAILSDEVELOPER COBOL KOTLIN JULIA', 'BACKENDDEVELOPER CSS C/C++', 'DATASCIENTIST C/C++', 'FULLSTACKDEVELOPER RUBY JULIA RUST', 'PYTHONDEVELOPER CSS C#', 'PYTHONDEVELOPER PHP JAVA', 'BACKENDDEVELOPER SWIFT', 'MEANSTACKDEVELOPER SQL JAVASCRIPT C#', 'MEANSTACKDEVELOPER PHP RUBY', 'FRONTENDDEVELOPER JULIA JAVA', 'RUBYONRAILSDEVELOPER R COBOL', 'REACTJSDEVELOPER RUST HTML KOTLIN', 'WEBDEVELOPER OBJECTIVE-C', 'MEANSTACKDEVELOPER COBOL DART', 'BACKENDDEVELOPER PYTHON C#', 'DATASCIENTIST R FORTRAN JULIA', 'MERNSTACKDEVELOPER R RUBY OBJECTIVE-C', 'BACKENDDEVELOPER CSS RUST RUBY', 'DATASCIENTIST DART OBJECTIVE-C', 'DATASCIENTIST SWIFT', 'DATAANALYST DART C/C++ RUST', 'JAVASCRIPTDEVELOPER JAVASCRIPT PHP', 'RUBYONRAILSDEVELOPER JULIA PERL', 'PRODUCTMANAGER R PHP FORTRAN', 'JAVASCRIPTDEVELOPER COBOL FORTRAN', 'WEBDEVELOPER FORTRAN HTML KOTLIN', 'JAVASCRIPTDEVELOPER PHP', 'REACTJSDEVELOPER RUST FORTRAN DART', 'PYTHONDEVELOPER JAVASCRIPT JAVA KOTLIN', 'WEBDEVELOPER PERL R', 'DATASCIENTIST PYTHON', 'DATAANALYST HTML C#', 'DATASCIENTIST JAVASCRIPT C/C++ RUBY', 'MERNSTACKDEVELOPER HTML C# FORTRAN', 'FRONTENDDEVELOPER SQL HTML', 'DATAANALYST HTML JAVA', 'BACKENDDEVELOPER DART C/C++ RUST', 'DATAANALYST R', 'FRONTENDDEVELOPER KOTLIN JAVASCRIPT', 'PYTHONDEVELOPER PERL RUBY', 'JAVASCRIPTDEVELOPER RUBY DART', 'RUBYONRAILSDEVELOPER FORTRAN', 'DATAANALYST OBJECTIVE-C SQL', 'RUBYONRAILSDEVELOPER RUBY OBJECTIVE-C', 'RUBYONRAILSDEVELOPER SWIFT SQL PHP', 'MEANSTACKDEVELOPER SWIFT C# SQL', 'MEANSTACKDEVELOPER DART HTML', 'DATASCIENTIST RUST PYTHON', 'WEBDEVELOPER COBOL SQL', 'PYTHONDEVELOPER SWIFT', 'MEANSTACKDEVELOPER PYTHON', 'DATASCIENTIST RUST COBOL PERL', 'DATAANALYST RUBY OBJECTIVE-C', 'JAVASCRIPTDEVELOPER FORTRAN DART JULIA', 'DATASCIENTIST JAVA C/C++', 'MEANSTACKDEVELOPER HTML', 'DATASCIENTIST FORTRAN', 'PRODUCTMANAGER SWIFT JAVA', 'PYTHONDEVELOPER KOTLIN PERL JULIA', 'JAVASCRIPTDEVELOPER HTML', 'PYTHONDEVELOPER HTML SQL', 'RUBYONRAILSDEVELOPER C/C++ PHP CSS', 'WEBDEVELOPER JAVA OBJECTIVE-C HTML', 'BACKENDDEVELOPER DART JAVA RUBY', 'WEBDEVELOPER C#', 'DATAANALYST FORTRAN RUBY PYTHON', 'DATAANALYST PHP PYTHON FORTRAN', 'RUBYONRAILSDEVELOPER RUST', 'REACTJSDEVELOPER RUBY KOTLIN', 'BACKENDDEVELOPER JAVASCRIPT', 'PRODUCTMANAGER JAVASCRIPT PHP HTML', 'MERNSTACKDEVELOPER JAVA JULIA OBJECTIVE-C', 'MEANSTACKDEVELOPER CSS C#', 'MERNSTACKDEVELOPER PERL PYTHON', 'BACKENDDEVELOPER RUST C# C/C++', 'JAVASCRIPTDEVELOPER JULIA PHP', 'MEANSTACKDEVELOPER C# RUBY DART', 'PRODUCTMANAGER PHP COBOL RUBY', 'PYTHONDEVELOPER FORTRAN', 'RUBYONRAILSDEVELOPER PERL FORTRAN COBOL', 'JAVASCRIPTDEVELOPER SQL', 'FULLSTACKDEVELOPER C# KOTLIN COBOL', 'MEANSTACKDEVELOPER HTML SQL', 'FULLSTACKDEVELOPER HTML', 'DATAANALYST SWIFT R', 'RUBYONRAILSDEVELOPER DART JAVASCRIPT PHP', 'JAVASCRIPTDEVELOPER SQL RUST CSS', 'WEBDEVELOPER C#', 'JAVASCRIPTDEVELOPER RUBY JAVASCRIPT', 'WEBDEVELOPER JAVASCRIPT JULIA SQL', 'DATASCIENTIST R', 'DATAANALYST SQL', 'PRODUCTMANAGER RUST JAVA JAVASCRIPT', 'BACKENDDEVELOPER RUST PERL HTML', 'REACTJSDEVELOPER JAVA', 'REACTJSDEVELOPER CSS PYTHON C#', 'MERNSTACKDEVELOPER C/C++ RUBY JAVA', 'FULLSTACKDEVELOPER C#', 'FRONTENDDEVELOPER COBOL FORTRAN', 'RUBYONRAILSDEVELOPER C/C++', 'BACKENDDEVELOPER C# HTML JAVASCRIPT', 'PYTHONDEVELOPER JAVASCRIPT', 'WEBDEVELOPER RUST', 'RUBYONRAILSDEVELOPER JAVA JAVASCRIPT KOTLIN', 'JAVASCRIPTDEVELOPER C/C++', 'MERNSTACKDEVELOPER OBJECTIVE-C SWIFT R', 'PYTHONDEVELOPER CSS R', 'REACTJSDEVELOPER JULIA', 'MEANSTACKDEVELOPER HTML PHP', 'WEBDEVELOPER FORTRAN JAVA', 'DATASCIENTIST C/C++', 'WEBDEVELOPER C/C++ RUBY', 'PRODUCTMANAGER JULIA HTML DART', 'REACTJSDEVELOPER PHP PERL', 'PRODUCTMANAGER SWIFT DART', 'WEBDEVELOPER PHP', 'WEBDEVELOPER C/C++ PYTHON', 'DATASCIENTIST CSS DART RUST', 'FULLSTACKDEVELOPER R', 'DATAANALYST COBOL KOTLIN', 'BACKENDDEVELOPER C# JAVA COBOL', 'REACTJSDEVELOPER OBJECTIVE-C KOTLIN JAVASCRIPT', 'BACKENDDEVELOPER RUBY PERL C#', 'RUBYONRAILSDEVELOPER CSS', 'REACTJSDEVELOPER KOTLIN PERL', 'MERNSTACKDEVELOPER C# KOTLIN', 'WEBDEVELOPER PHP RUST', 'PRODUCTMANAGER CSS JAVASCRIPT', 'PRODUCTMANAGER PERL', 'MEANSTACKDEVELOPER JULIA KOTLIN', 'DATAANALYST KOTLIN', 'MEANSTACKDEVELOPER RUST', 'PYTHONDEVELOPER CSS', 'BACKENDDEVELOPER KOTLIN JAVA JAVASCRIPT', 'FRONTENDDEVELOPER KOTLIN', 'BACKENDDEVELOPER SQL FORTRAN', 'WEBDEVELOPER C#', 'FRONTENDDEVELOPER JAVASCRIPT', 'DATASCIENTIST C# DART PERL', 'FRONTENDDEVELOPER PYTHON DART', 'PYTHONDEVELOPER SWIFT R C#', 'DATASCIENTIST RUBY CSS RUST', 'MEANSTACKDEVELOPER COBOL CSS', 'DATASCIENTIST DART', 'FRONTENDDEVELOPER RUST', 'WEBDEVELOPER KOTLIN HTML', 'BACKENDDEVELOPER JAVASCRIPT R HTML', 'BACKENDDEVELOPER FORTRAN', 'PYTHONDEVELOPER KOTLIN', 'RUBYONRAILSDEVELOPER DART HTML', 'JAVASCRIPTDEVELOPER CSS PERL C/C++', 'JAVASCRIPTDEVELOPER JAVA', 'BACKENDDEVELOPER R SWIFT', 'MERNSTACKDEVELOPER RUST RUBY DART', 'BACKENDDEVELOPER HTML', 'BACKENDDEVELOPER DART COBOL', 'DATAANALYST JAVA SWIFT', 'DATASCIENTIST PYTHON JULIA C#', 'RUBYONRAILSDEVELOPER OBJECTIVE-C PERL DART', 'RUBYONRAILSDEVELOPER SWIFT PHP RUBY', 'WEBDEVELOPER R C# KOTLIN', 'WEBDEVELOPER FORTRAN', 'RUBYONRAILSDEVELOPER JULIA PYTHON', 'WEBDEVELOPER JAVASCRIPT KOTLIN', 'DATAANALYST C/C++ OBJECTIVE-C', 'BACKENDDEVELOPER PYTHON COBOL', 'PYTHONDEVELOPER RUBY PERL', 'REACTJSDEVELOPER PYTHON', 'WEBDEVELOPER RUST', 'WEBDEVELOPER CSS PHP PYTHON', 'JAVASCRIPTDEVELOPER JAVASCRIPT RUBY C/C++', 'RUBYONRAILSDEVELOPER R HTML C/C++', 'BACKENDDEVELOPER KOTLIN', 'WEBDEVELOPER C/C++ COBOL R', 'PRODUCTMANAGER OBJECTIVE-C DART', 'BACKENDDEVELOPER PYTHON C/C++ OBJECTIVE-C', 'MEANSTACKDEVELOPER R RUST', 'WEBDEVELOPER C# KOTLIN CSS', 'DATAANALYST HTML RUBY', 'REACTJSDEVELOPER KOTLIN', 'RUBYONRAILSDEVELOPER OBJECTIVE-C RUST PHP', 'MERNSTACKDEVELOPER PHP', 'PYTHONDEVELOPER JULIA C# C/C++', 'FRONTENDDEVELOPER R', 'FULLSTACKDEVELOPER KOTLIN C#', 'RUBYONRAILSDEVELOPER SWIFT', 'FRONTENDDEVELOPER RUBY C/C++', 'REACTJSDEVELOPER JAVASCRIPT RUST PYTHON', 'DATAANALYST JAVA JULIA C#', 'MERNSTACKDEVELOPER KOTLIN OBJECTIVE-C', 'JAVASCRIPTDEVELOPER RUST', 'MEANSTACKDEVELOPER SQL C# CSS', 'PYTHONDEVELOPER JAVA PYTHON PHP', 'WEBDEVELOPER JAVASCRIPT', 'MERNSTACKDEVELOPER JAVASCRIPT CSS', 'REACTJSDEVELOPER OBJECTIVE-C PERL', 'RUBYONRAILSDEVELOPER C# KOTLIN PHP', 'PRODUCTMANAGER PHP DART', 'DATAANALYST PERL R', 'RUBYONRAILSDEVELOPER KOTLIN COBOL', 'JAVASCRIPTDEVELOPER C/C++', 'MEANSTACKDEVELOPER DART', 'RUBYONRAILSDEVELOPER C/C++', 'RUBYONRAILSDEVELOPER SWIFT FORTRAN RUST', 'FRONTENDDEVELOPER PHP RUST PYTHON', 'DATAANALYST SQL KOTLIN', 'JAVASCRIPTDEVELOPER RUBY', 'MEANSTACKDEVELOPER CSS', 'PRODUCTMANAGER RUBY', 'REACTJSDEVELOPER KOTLIN', 'MEANSTACKDEVELOPER SQL CSS JAVA', 'DATASCIENTIST R COBOL C#', 'RUBYONRAILSDEVELOPER SQL C/C++ FORTRAN', 'MERNSTACKDEVELOPER COBOL', 'DATAANALYST CSS KOTLIN DART', 'RUBYONRAILSDEVELOPER PERL JAVASCRIPT', 'FRONTENDDEVELOPER PYTHON', 'PYTHONDEVELOPER JAVA PERL COBOL', 'DATAANALYST PERL', 'MEANSTACKDEVELOPER C#', 'WEBDEVELOPER RUST HTML SWIFT', 'DATASCIENTIST PERL', 'RUBYONRAILSDEVELOPER C# JULIA JAVA', 'WEBDEVELOPER C/C++ COBOL', 'JAVASCRIPTDEVELOPER RUBY', 'RUBYONRAILSDEVELOPER SQL KOTLIN COBOL', 'RUBYONRAILSDEVELOPER PERL SQL', 'JAVASCRIPTDEVELOPER FORTRAN PERL PHP', 'REACTJSDEVELOPER JULIA PHP', 'JAVASCRIPTDEVELOPER C/C++ DART', 'DATAANALYST R', 'DATAANALYST C/C++ JULIA', 'WEBDEVELOPER C# SQL RUBY', 'FRONTENDDEVELOPER PERL', 'MERNSTACKDEVELOPER PERL', 'WEBDEVELOPER JAVASCRIPT R', 'JAVASCRIPTDEVELOPER PHP', 'MERNSTACKDEVELOPER CSS', 'MERNSTACKDEVELOPER R', 'REACTJSDEVELOPER SWIFT C#', 'FULLSTACKDEVELOPER RUBY', 'REACTJSDEVELOPER SWIFT PHP RUST', 'RUBYONRAILSDEVELOPER R C/C++', 'DATASCIENTIST PYTHON', 'REACTJSDEVELOPER C# RUST', 'FULLSTACKDEVELOPER FORTRAN', 'JAVASCRIPTDEVELOPER OBJECTIVE-C DART FORTRAN', 'RUBYONRAILSDEVELOPER COBOL SQL CSS', 'DATASCIENTIST SQL JAVASCRIPT C#', 'PYTHONDEVELOPER HTML KOTLIN', 'MERNSTACKDEVELOPER PYTHON JAVASCRIPT PHP', 'PRODUCTMANAGER FORTRAN HTML SQL', 'JAVASCRIPTDEVELOPER JAVASCRIPT SWIFT DART', 'DATAANALYST HTML KOTLIN', 'MERNSTACKDEVELOPER CSS', 'BACKENDDEVELOPER C/C++ PERL JAVA', 'BACKENDDEVELOPER PYTHON', 'FRONTENDDEVELOPER R', 'WEBDEVELOPER JULIA', 'BACKENDDEVELOPER C/C++ C# KOTLIN', 'BACKENDDEVELOPER JAVA PHP CSS', 'BACKENDDEVELOPER FORTRAN COBOL PHP', 'DATAANALYST PERL', 'DATAANALYST SWIFT', 'MERNSTACKDEVELOPER SWIFT C/C++ RUBY', 'MEANSTACKDEVELOPER KOTLIN', 'FULLSTACKDEVELOPER JAVASCRIPT PERL PYTHON', 'REACTJSDEVELOPER HTML JULIA', 'FRONTENDDEVELOPER PERL JAVA CSS', 'REACTJSDEVELOPER COBOL', 'WEBDEVELOPER RUBY C/C++', 'PRODUCTMANAGER R RUBY', 'DATASCIENTIST SQL KOTLIN JAVASCRIPT', 'FULLSTACKDEVELOPER SWIFT PHP', 'FRONTENDDEVELOPER RUBY C#', 'BACKENDDEVELOPER RUST KOTLIN', 'REACTJSDEVELOPER KOTLIN RUBY', 'REACTJSDEVELOPER RUST', 'FRONTENDDEVELOPER RUST KOTLIN', 'BACKENDDEVELOPER JAVASCRIPT KOTLIN OBJECTIVE-C', 'DATASCIENTIST C/C++', 'DATAANALYST OBJECTIVE-C PHP FORTRAN', 'RUBYONRAILSDEVELOPER PYTHON JAVASCRIPT JULIA', 'PYTHONDEVELOPER PERL PYTHON C#', 'PRODUCTMANAGER C/C++ PERL', 'DATAANALYST PYTHON KOTLIN PHP', 'MEANSTACKDEVELOPER HTML', 'JAVASCRIPTDEVELOPER PERL', 'JAVASCRIPTDEVELOPER C/C++ PERL', 'RUBYONRAILSDEVELOPER DART CSS', 'DATASCIENTIST FORTRAN', 'FULLSTACKDEVELOPER RUST SWIFT', 'MEANSTACKDEVELOPER OBJECTIVE-C PHP', 'DATASCIENTIST SWIFT', 'MEANSTACKDEVELOPER FORTRAN', 'WEBDEVELOPER SQL COBOL C/C++', 'RUBYONRAILSDEVELOPER R SQL C#', 'PYTHONDEVELOPER HTML RUST', 'WEBDEVELOPER R COBOL RUBY', 'JAVASCRIPTDEVELOPER OBJECTIVE-C RUBY', 'REACTJSDEVELOPER PHP JULIA JAVASCRIPT', 'RUBYONRAILSDEVELOPER C#', 'BACKENDDEVELOPER PHP', 'FRONTENDDEVELOPER SQL PERL', 'DATAANALYST CSS JAVASCRIPT', 'REACTJSDEVELOPER C/C++ RUST', 'DATASCIENTIST JAVASCRIPT HTML JAVA', 'DATASCIENTIST C# JULIA OBJECTIVE-C', 'FRONTENDDEVELOPER JULIA HTML FORTRAN', 'FRONTENDDEVELOPER C/C++', 'BACKENDDEVELOPER OBJECTIVE-C PYTHON SQL', 'MERNSTACKDEVELOPER CSS RUBY', 'MERNSTACKDEVELOPER RUST OBJECTIVE-C R', 'MERNSTACKDEVELOPER COBOL RUBY', 'BACKENDDEVELOPER PYTHON JAVASCRIPT SQL', 'FRONTENDDEVELOPER C/C++', 'FULLSTACKDEVELOPER JULIA PERL', 'FULLSTACKDEVELOPER JULIA', 'PYTHONDEVELOPER DART', 'JAVASCRIPTDEVELOPER PERL', 'MEANSTACKDEVELOPER RUBY OBJECTIVE-C', 'REACTJSDEVELOPER C# RUBY SQL', 'MEANSTACKDEVELOPER CSS JAVASCRIPT JAVA', 'FRONTENDDEVELOPER R JULIA FORTRAN', 'MERNSTACKDEVELOPER SQL RUST', 'WEBDEVELOPER OBJECTIVE-C', 'FRONTENDDEVELOPER PERL', 'FRONTENDDEVELOPER JAVASCRIPT SWIFT', 'FULLSTACKDEVELOPER KOTLIN RUBY', 'PYTHONDEVELOPER KOTLIN', 'MEANSTACKDEVELOPER C/C++', 'WEBDEVELOPER SWIFT RUST', 'PRODUCTMANAGER OBJECTIVE-C JAVA R', 'PYTHONDEVELOPER PERL SWIFT DART', 'DATASCIENTIST SQL', 'PYTHONDEVELOPER OBJECTIVE-C SQL', 'RUBYONRAILSDEVELOPER C/C++ CSS HTML', 'PRODUCTMANAGER OBJECTIVE-C JULIA SQL', 'DATAANALYST COBOL RUST DART', 'REACTJSDEVELOPER DART JAVASCRIPT', 'PRODUCTMANAGER OBJECTIVE-C DART', 'BACKENDDEVELOPER JULIA C/C++', 'DATAANALYST PERL JULIA', 'DATAANALYST SQL RUST', 'DATAANALYST RUST R', 'JAVASCRIPTDEVELOPER SWIFT RUBY R', 'WEBDEVELOPER FORTRAN RUST', 'DATASCIENTIST COBOL KOTLIN C#', 'WEBDEVELOPER HTML', 'WEBDEVELOPER C# FORTRAN', 'RUBYONRAILSDEVELOPER CSS RUST C#', 'BACKENDDEVELOPER PHP C/C++ DART', 'FRONTENDDEVELOPER CSS R COBOL', 'JAVASCRIPTDEVELOPER SWIFT', 'BACKENDDEVELOPER JAVA DART', 'MEANSTACKDEVELOPER C# JAVASCRIPT', 'JAVASCRIPTDEVELOPER JAVA', 'JAVASCRIPTDEVELOPER HTML', 'REACTJSDEVELOPER R SQL', 'DATASCIENTIST C# JAVA DART', 'MEANSTACKDEVELOPER RUST JULIA COBOL', 'PYTHONDEVELOPER FORTRAN PYTHON', 'MERNSTACKDEVELOPER DART PHP JULIA', 'PYTHONDEVELOPER JULIA COBOL OBJECTIVE-C', 'REACTJSDEVELOPER HTML', 'PYTHONDEVELOPER FORTRAN PHP R', 'DATAANALYST COBOL FORTRAN', 'RUBYONRAILSDEVELOPER JULIA SWIFT', 'PRODUCTMANAGER PERL JULIA', 'DATAANALYST OBJECTIVE-C C#', 'MERNSTACKDEVELOPER RUBY', 'FRONTENDDEVELOPER R JAVASCRIPT COBOL', 'FULLSTACKDEVELOPER JAVA CSS', 'BACKENDDEVELOPER CSS C#', 'DATASCIENTIST FORTRAN RUBY RUST', 'PRODUCTMANAGER OBJECTIVE-C', 'DATAANALYST FORTRAN JAVA', 'RUBYONRAILSDEVELOPER PYTHON', 'PRODUCTMANAGER PERL C# R', 'WEBDEVELOPER FORTRAN', 'DATAANALYST JULIA PHP', 'WEBDEVELOPER OBJECTIVE-C PHP DART', 'MEANSTACKDEVELOPER PERL C#', 'FULLSTACKDEVELOPER RUST', 'PYTHONDEVELOPER C# PYTHON SWIFT', 'BACKENDDEVELOPER HTML RUBY', 'MERNSTACKDEVELOPER JAVA CSS PHP', 'RUBYONRAILSDEVELOPER OBJECTIVE-C C/C++', 'JAVASCRIPTDEVELOPER C/C++ JAVA FORTRAN', 'JAVASCRIPTDEVELOPER R', 'RUBYONRAILSDEVELOPER PHP OBJECTIVE-C COBOL', 'MERNSTACKDEVELOPER CSS DART JAVA', 'FULLSTACKDEVELOPER PERL FORTRAN', 'RUBYONRAILSDEVELOPER FORTRAN', 'DATAANALYST PERL JAVA', 'MEANSTACKDEVELOPER C/C++ PHP', 'DATAANALYST RUBY DART', 'REACTJSDEVELOPER KOTLIN PERL', 'JAVASCRIPTDEVELOPER DART RUST FORTRAN', 'DATAANALYST CSS', 'RUBYONRAILSDEVELOPER JAVASCRIPT', 'PRODUCTMANAGER CSS RUST', 'MEANSTACKDEVELOPER COBOL', 'MERNSTACKDEVELOPER PERL', 'MEANSTACKDEVELOPER PYTHON KOTLIN', 'MERNSTACKDEVELOPER PERL C/C++', 'BACKENDDEVELOPER JAVASCRIPT', 'FRONTENDDEVELOPER RUBY', 'PYTHONDEVELOPER JULIA DART', 'FULLSTACKDEVELOPER JAVASCRIPT R', 'WEBDEVELOPER C#', 'REACTJSDEVELOPER CSS', 'FULLSTACKDEVELOPER R C#', 'JAVASCRIPTDEVELOPER OBJECTIVE-C', 'FULLSTACKDEVELOPER COBOL KOTLIN FORTRAN', 'PYTHONDEVELOPER DART HTML KOTLIN', 'MEANSTACKDEVELOPER OBJECTIVE-C', 'MEANSTACKDEVELOPER SWIFT RUST JULIA', 'DATAANALYST COBOL HTML', 'WEBDEVELOPER DART SQL', 'REACTJSDEVELOPER PHP RUBY', 'JAVASCRIPTDEVELOPER JAVA C#', 'DATASCIENTIST COBOL PHP', 'REACTJSDEVELOPER C# PHP RUBY', 'WEBDEVELOPER FORTRAN C/C++', 'PRODUCTMANAGER JAVASCRIPT SWIFT', 'DATASCIENTIST C/C++ HTML', 'DATAANALYST FORTRAN', 'PYTHONDEVELOPER JAVASCRIPT', 'PYTHONDEVELOPER C#', 'dbvfav']\n"
     ]
    }
   ],
   "source": [
    "a = jobs['tags'].tolist()\n",
    "a.append(\"dbvfav\")\n",
    "print(a)"
   ]
  },
  {
   "cell_type": "code",
   "execution_count": 17,
   "id": "0715425f",
   "metadata": {},
   "outputs": [],
   "source": [
    "# vector"
   ]
  },
  {
   "cell_type": "code",
   "execution_count": 18,
   "id": "467a4507",
   "metadata": {},
   "outputs": [
    {
     "data": {
      "text/plain": [
       "2001"
      ]
     },
     "execution_count": 18,
     "metadata": {},
     "output_type": "execute_result"
    }
   ],
   "source": [
    "len(vectors)"
   ]
  },
  {
   "cell_type": "code",
   "execution_count": 19,
   "id": "642787c6",
   "metadata": {},
   "outputs": [
    {
     "data": {
      "text/plain": [
       "array(['backenddeveloper', 'cobol', 'css', 'dart', 'dataanalyst',\n",
       "       'datascientist', 'fortran', 'frontenddeveloper',\n",
       "       'fullstackdeveloper', 'html', 'java', 'javascript',\n",
       "       'javascriptdeveloper', 'julia', 'kotlin', 'meanstackdeveloper',\n",
       "       'mernstackdeveloper', 'objective', 'perl', 'php', 'productmanager',\n",
       "       'python', 'pythondeveloper', 'reactjsdeveloper', 'ruby',\n",
       "       'rubyonrailsdeveloper', 'rust', 'sql', 'swift', 'webdeveloper'],\n",
       "      dtype=object)"
      ]
     },
     "execution_count": 19,
     "metadata": {},
     "output_type": "execute_result"
    }
   ],
   "source": [
    "cv.get_feature_names_out()"
   ]
  },
  {
   "cell_type": "code",
   "execution_count": 20,
   "id": "67e43190",
   "metadata": {},
   "outputs": [],
   "source": [
    "similarity = cosine_similarity(vectors)"
   ]
  },
  {
   "cell_type": "code",
   "execution_count": null,
   "id": "6c93befb",
   "metadata": {},
   "outputs": [],
   "source": []
  },
  {
   "cell_type": "code",
   "execution_count": 21,
   "id": "24ab644b",
   "metadata": {},
   "outputs": [
    {
     "data": {
      "text/plain": [
       "2001"
      ]
     },
     "execution_count": 21,
     "metadata": {},
     "output_type": "execute_result"
    }
   ],
   "source": [
    "len(similarity)"
   ]
  },
  {
   "cell_type": "code",
   "execution_count": 22,
   "id": "44873e44",
   "metadata": {},
   "outputs": [
    {
     "data": {
      "text/plain": [
       "array([0.28867513, 0.        , 0.        , ..., 0.35355339, 0.        ,\n",
       "       1.        ])"
      ]
     },
     "execution_count": 22,
     "metadata": {},
     "output_type": "execute_result"
    }
   ],
   "source": [
    "similarity[-1]"
   ]
  },
  {
   "cell_type": "code",
   "execution_count": 23,
   "id": "255ee5f1",
   "metadata": {},
   "outputs": [],
   "source": [
    "# def recommend(job):\n",
    "#     job_index = jobs[jobs['POSITION'] == job].index[0]\n",
    "#     distances = similarity[job_index]\n",
    "#     jobs_list = sorted(list(enumerate(distances)), reverse=True, key=lambda x:x[1])[1:20]\n",
    "    \n",
    "#     for i in jobs_list:\n",
    "#         print(jobs.iloc[i[0]].POSITION, jobs.iloc[i[0]].SKILL)"
   ]
  },
  {
   "cell_type": "code",
   "execution_count": 24,
   "id": "a23ee289",
   "metadata": {},
   "outputs": [
    {
     "name": "stdout",
     "output_type": "stream",
     "text": [
      "FRONTENDDEVELOPER JAVASCRIPT R PYTHON\n",
      "FRONTENDDEVELOPER JAVASCRIPT PYTHON\n",
      "FRONTENDDEVELOPER JAVASCRIPT JAVA\n",
      "FRONTENDDEVELOPER JAVASCRIPT\n",
      "FRONTENDDEVELOPER JAVA\n",
      "FRONTENDDEVELOPER R JAVASCRIPT\n",
      "FRONTENDDEVELOPER JAVA\n",
      "FRONTENDDEVELOPER JAVA\n",
      "FRONTENDDEVELOPER JAVA\n",
      "FRONTENDDEVELOPER JAVASCRIPT\n",
      "FRONTENDDEVELOPER PYTHON\n",
      "FRONTENDDEVELOPER C# HTML JAVASCRIPT\n",
      "REACTJSDEVELOPER JAVA JAVASCRIPT R\n",
      "FRONTENDDEVELOPER FORTRAN JAVA\n",
      "WEBDEVELOPER R JAVA PYTHON\n",
      "WEBDEVELOPER PYTHON JAVASCRIPT\n",
      "FRONTENDDEVELOPER JAVASCRIPT FORTRAN\n",
      "MERNSTACKDEVELOPER JAVASCRIPT PYTHON\n",
      "RUBYONRAILSDEVELOPER JAVASCRIPT JAVA\n",
      "FRONTENDDEVELOPER JAVASCRIPT DART C#\n",
      "FRONTENDDEVELOPER PHP JAVASCRIPT\n",
      "REACTJSDEVELOPER JAVASCRIPT R JAVA\n",
      "FRONTENDDEVELOPER JAVASCRIPT KOTLIN\n",
      "JAVASCRIPTDEVELOPER JAVA JAVASCRIPT C/C++\n",
      "BACKENDDEVELOPER JAVASCRIPT R PYTHON\n",
      "FRONTENDDEVELOPER JULIA JAVASCRIPT R\n",
      "FULLSTACKDEVELOPER JAVASCRIPT JAVA\n",
      "FRONTENDDEVELOPER HTML PYTHON\n",
      "MEANSTACKDEVELOPER JAVASCRIPT PYTHON R\n",
      "FULLSTACKDEVELOPER JAVASCRIPT PYTHON\n",
      "PRODUCTMANAGER JAVA PYTHON\n",
      "FRONTENDDEVELOPER JULIA JAVA\n",
      "FRONTENDDEVELOPER KOTLIN JAVASCRIPT\n",
      "FRONTENDDEVELOPER PYTHON DART\n",
      "FRONTENDDEVELOPER JAVASCRIPT SWIFT\n",
      "FRONTENDDEVELOPER R JAVASCRIPT COBOL\n",
      "WEBDEVELOPER PYTHON OBJECTIVE-C JAVA\n",
      "FRONTENDDEVELOPER C/C++\n",
      "FRONTENDDEVELOPER SWIFT RUBY JAVA\n"
     ]
    }
   ],
   "source": [
    "def recommend():\n",
    "    distances = similarity[-1]\n",
    "    jobs_list = sorted(list(enumerate(distances)), reverse=True, key=lambda x:x[1])[1:40]\n",
    "    \n",
    "    for i in jobs_list:\n",
    "        if(i[0] != len(jobs)): print(jobs.iloc[i[0]].POSITION, jobs.iloc[i[0]].SKILL)    \n",
    "recommend()"
   ]
  },
  {
   "cell_type": "code",
   "execution_count": 25,
   "id": "cd0b7de7",
   "metadata": {},
   "outputs": [
    {
     "data": {
      "text/plain": [
       "'dbvfav'"
      ]
     },
     "execution_count": 25,
     "metadata": {},
     "output_type": "execute_result"
    }
   ],
   "source": [
    "# jobs['tags'][1999]\n",
    "a[2000]"
   ]
  },
  {
   "cell_type": "code",
   "execution_count": 26,
   "id": "66bbc886",
   "metadata": {},
   "outputs": [
    {
     "name": "stdout",
     "output_type": "stream",
     "text": [
      "FRONTENDDEVELOPER JAVASCRIPT R PYTHON\n",
      "FRONTENDDEVELOPER JAVASCRIPT PYTHON\n",
      "FRONTENDDEVELOPER JAVASCRIPT JAVA\n",
      "FRONTENDDEVELOPER JAVASCRIPT\n",
      "FRONTENDDEVELOPER JAVA\n",
      "FRONTENDDEVELOPER R JAVASCRIPT\n",
      "FRONTENDDEVELOPER JAVA\n",
      "FRONTENDDEVELOPER JAVA\n",
      "FRONTENDDEVELOPER JAVA\n",
      "FRONTENDDEVELOPER JAVASCRIPT\n",
      "FRONTENDDEVELOPER PYTHON\n",
      "FRONTENDDEVELOPER C# HTML JAVASCRIPT\n",
      "REACTJSDEVELOPER JAVA JAVASCRIPT R\n",
      "FRONTENDDEVELOPER FORTRAN JAVA\n",
      "WEBDEVELOPER R JAVA PYTHON\n",
      "WEBDEVELOPER PYTHON JAVASCRIPT\n",
      "FRONTENDDEVELOPER JAVASCRIPT FORTRAN\n",
      "MERNSTACKDEVELOPER JAVASCRIPT PYTHON\n",
      "RUBYONRAILSDEVELOPER JAVASCRIPT JAVA\n",
      "FRONTENDDEVELOPER JAVASCRIPT DART C#\n",
      "FRONTENDDEVELOPER PHP JAVASCRIPT\n",
      "REACTJSDEVELOPER JAVASCRIPT R JAVA\n",
      "FRONTENDDEVELOPER JAVASCRIPT KOTLIN\n",
      "JAVASCRIPTDEVELOPER JAVA JAVASCRIPT C/C++\n",
      "BACKENDDEVELOPER JAVASCRIPT R PYTHON\n",
      "FRONTENDDEVELOPER JULIA JAVASCRIPT R\n",
      "FULLSTACKDEVELOPER JAVASCRIPT JAVA\n",
      "FRONTENDDEVELOPER HTML PYTHON\n",
      "MEANSTACKDEVELOPER JAVASCRIPT PYTHON R\n",
      "FULLSTACKDEVELOPER JAVASCRIPT PYTHON\n",
      "PRODUCTMANAGER JAVA PYTHON\n",
      "FRONTENDDEVELOPER JULIA JAVA\n",
      "FRONTENDDEVELOPER KOTLIN JAVASCRIPT\n",
      "FRONTENDDEVELOPER PYTHON DART\n",
      "FRONTENDDEVELOPER JAVASCRIPT SWIFT\n",
      "FRONTENDDEVELOPER R JAVASCRIPT COBOL\n",
      "WEBDEVELOPER PYTHON OBJECTIVE-C JAVA\n",
      "FRONTENDDEVELOPER C/C++\n",
      "FRONTENDDEVELOPER SWIFT RUBY JAVA\n"
     ]
    }
   ],
   "source": [
    "recommend()"
   ]
  },
  {
   "cell_type": "code",
   "execution_count": 28,
   "id": "f37679bb",
   "metadata": {},
   "outputs": [],
   "source": [
    "jobs.to_csv('data.csv')"
   ]
  },
  {
   "cell_type": "code",
   "execution_count": null,
   "id": "a3fb276a",
   "metadata": {},
   "outputs": [],
   "source": []
  }
 ],
 "metadata": {
  "kernelspec": {
   "display_name": "Python 3 (ipykernel)",
   "language": "python",
   "name": "python3"
  },
  "language_info": {
   "codemirror_mode": {
    "name": "ipython",
    "version": 3
   },
   "file_extension": ".py",
   "mimetype": "text/x-python",
   "name": "python",
   "nbconvert_exporter": "python",
   "pygments_lexer": "ipython3",
   "version": "3.9.8"
  }
 },
 "nbformat": 4,
 "nbformat_minor": 5
}
